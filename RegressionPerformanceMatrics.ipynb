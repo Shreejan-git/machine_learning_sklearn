{
 "cells": [
  {
   "cell_type": "code",
   "execution_count": 71,
   "id": "c0697330",
   "metadata": {},
   "outputs": [],
   "source": [
    "import numpy as np\n",
    "import pandas as pd\n",
    "from sklearn.linear_model import LinearRegression\n",
    "from sklearn.model_selection import cross_val_score, KFold, train_test_split\n",
    "from sklearn.metrics import mean_absolute_error, mean_squared_error, r2_score\n",
    "import matplotlib.pyplot as plt"
   ]
  },
  {
   "cell_type": "markdown",
   "id": "44f12c02",
   "metadata": {},
   "source": [
    "Below used data is just a dummpy data for simple linear regresssion. The main objective of this notebook is to demonstrate the application of regression evaluation matrics for both train_test_split and cross_val_score"
   ]
  },
  {
   "cell_type": "code",
   "execution_count": 14,
   "id": "8861f01d",
   "metadata": {},
   "outputs": [
    {
     "data": {
      "text/html": [
       "<div>\n",
       "<style scoped>\n",
       "    .dataframe tbody tr th:only-of-type {\n",
       "        vertical-align: middle;\n",
       "    }\n",
       "\n",
       "    .dataframe tbody tr th {\n",
       "        vertical-align: top;\n",
       "    }\n",
       "\n",
       "    .dataframe thead th {\n",
       "        text-align: right;\n",
       "    }\n",
       "</style>\n",
       "<table border=\"1\" class=\"dataframe\">\n",
       "  <thead>\n",
       "    <tr style=\"text-align: right;\">\n",
       "      <th></th>\n",
       "      <th>cgpa</th>\n",
       "      <th>package</th>\n",
       "    </tr>\n",
       "  </thead>\n",
       "  <tbody>\n",
       "    <tr>\n",
       "      <th>0</th>\n",
       "      <td>6.89</td>\n",
       "      <td>3.26</td>\n",
       "    </tr>\n",
       "    <tr>\n",
       "      <th>1</th>\n",
       "      <td>5.12</td>\n",
       "      <td>1.98</td>\n",
       "    </tr>\n",
       "    <tr>\n",
       "      <th>2</th>\n",
       "      <td>7.82</td>\n",
       "      <td>3.25</td>\n",
       "    </tr>\n",
       "    <tr>\n",
       "      <th>3</th>\n",
       "      <td>7.42</td>\n",
       "      <td>3.67</td>\n",
       "    </tr>\n",
       "    <tr>\n",
       "      <th>4</th>\n",
       "      <td>6.94</td>\n",
       "      <td>3.57</td>\n",
       "    </tr>\n",
       "  </tbody>\n",
       "</table>\n",
       "</div>"
      ],
      "text/plain": [
       "   cgpa  package\n",
       "0  6.89     3.26\n",
       "1  5.12     1.98\n",
       "2  7.82     3.25\n",
       "3  7.42     3.67\n",
       "4  6.94     3.57"
      ]
     },
     "execution_count": 14,
     "metadata": {},
     "output_type": "execute_result"
    }
   ],
   "source": [
    "data = pd.read_csv('C:/Users/shree/feature_engineering/datasets/cgpa_salary.csv')\n",
    "data.head(5)"
   ]
  },
  {
   "cell_type": "code",
   "execution_count": 15,
   "id": "8003cc41",
   "metadata": {},
   "outputs": [
    {
     "data": {
      "text/plain": [
       "(200, 2)"
      ]
     },
     "execution_count": 15,
     "metadata": {},
     "output_type": "execute_result"
    }
   ],
   "source": [
    "data.shape"
   ]
  },
  {
   "cell_type": "code",
   "execution_count": 50,
   "id": "013150cd",
   "metadata": {},
   "outputs": [
    {
     "name": "stdout",
     "output_type": "stream",
     "text": [
      "<class 'pandas.core.frame.DataFrame'> <class 'pandas.core.series.Series'>\n"
     ]
    },
    {
     "data": {
      "text/plain": [
       "<matplotlib.collections.PathCollection at 0x2a30bc716d0>"
      ]
     },
     "execution_count": 50,
     "metadata": {},
     "output_type": "execute_result"
    },
    {
     "data": {
      "image/png": "[encoded data removed]",
      "text/plain": [
       "<Figure size 1152x360 with 1 Axes>"
      ]
     },
     "metadata": {
      "needs_background": "light"
     },
     "output_type": "display_data"
    }
   ],
   "source": [
    "X = data.iloc[:,0:1]\n",
    "y = data.iloc[:,-1]\n",
    "\n",
    "print(type(X), type(y))\n",
    "\n",
    "plt.figure(figsize=(16,5))\n",
    "plt.scatter(X,y)"
   ]
  },
  {
   "cell_type": "code",
   "execution_count": 51,
   "id": "d9d3eb9b",
   "metadata": {},
   "outputs": [],
   "source": [
    "lr = LinearRegression()"
   ]
  },
  {
   "cell_type": "markdown",
   "id": "17bb472b",
   "metadata": {},
   "source": [
    "#using MSE, MAE, RMSE, R2_score, adjusted_r2 in cross_val_score"
   ]
  },
  {
   "cell_type": "code",
   "execution_count": 90,
   "id": "73ba881e",
   "metadata": {},
   "outputs": [
    {
     "name": "stdout",
     "output_type": "stream",
     "text": [
      "neg_mean_absolute_error: [-0.25631269 -0.28367481 -0.20690356 -0.28741749 -0.27595059]\n",
      "\n",
      "neg_mean_squared_error: [-0.11358382 -0.09511846 -0.12239632 -0.10999852 -0.1022914 ]\n",
      "\n",
      "neg_root_mean_squared_error: [-0.29815152 -0.37859774 -0.31954067 -0.30310904 -0.35441644]\n",
      "\n",
      "r2: [0.6767476  0.79808655 0.75735071 0.77018864 0.8024926 ]\n",
      "\n"
     ]
    }
   ],
   "source": [
    "l = ['neg_mean_absolute_error','neg_mean_squared_error','neg_root_mean_squared_error', 'r2']\n",
    "cv = KFold(n_splits=5, shuffle=True)\n",
    "\n",
    "for i in l:\n",
    "    cvs = cross_val_score(lr, X,y,cv=cv, scoring=i)\n",
    "    print(f'{i}: {cvs}')\n",
    "    print()"
   ]
  },
  {
   "cell_type": "markdown",
   "id": "82de01ae",
   "metadata": {},
   "source": [
    "scoring parameter evaluates the performance and function with the assumption of \"greater is better\" but as we are calculating error, the lesser the error, we are going in the right direction. That's why all the error calculation done inside scoring are made negative. If we want to evaluate, just removing the minus sign will work."
   ]
  },
  {
   "cell_type": "code",
   "execution_count": 68,
   "id": "47b51488",
   "metadata": {},
   "outputs": [],
   "source": [
    "Xtrain, Xtest, ytrain, ytest = train_test_split(X,y, random_state=1, test_size=0.1)\n",
    "lr.fit(Xtrain, ytrain)\n",
    "pred_two = lr.predict(Xtest)"
   ]
  },
  {
   "cell_type": "code",
   "execution_count": 85,
   "id": "e1821b8c",
   "metadata": {},
   "outputs": [
    {
     "name": "stdout",
     "output_type": "stream",
     "text": [
      "0.24073781577396716 \n",
      "\n",
      "0.096308127551835 \n",
      "\n",
      "0.3103355080422397 \n",
      "\n",
      "0.776341122875237 \n",
      "\n"
     ]
    }
   ],
   "source": [
    "mae = mean_absolute_error(ytest,pred_two)\n",
    "mse = mean_squared_error(ytest,pred_two)\n",
    "rmse = np.sqrt(mse)\n",
    "r_two = r2_score(ytest,pred_two)\n",
    "n = data.shape[0]\n",
    "\n",
    "print(mae,'\\n')\n",
    "print(mse,'\\n')\n",
    "print(rmse,'\\n')\n",
    "print(r_two,'\\n')"
   ]
  },
  {
   "cell_type": "code",
   "execution_count": 86,
   "id": "3a03e923",
   "metadata": {
    "scrolled": true
   },
   "outputs": [
    {
     "name": "stdout",
     "output_type": "stream",
     "text": [
      "200 1\n",
      "0.7774594172608609\n"
     ]
    }
   ],
   "source": [
    "k = Xtrain.shape[1]\n",
    "print(n,k)\n",
    "adjusted_r_two = 1-(((1-r_two)*(1-tnor))/(1-tnor-k))\n",
    "print(adjusted_r_two)"
   ]
  },
  {
   "cell_type": "code",
   "execution_count": null,
   "id": "e48dae0f",
   "metadata": {},
   "outputs": [],
   "source": []
  }
 ],
 "metadata": {
  "kernelspec": {
   "display_name": "Python 3 (ipykernel)",
   "language": "python",
   "name": "python3"
  },
  "language_info": {
   "codemirror_mode": {
    "name": "ipython",
    "version": 3
   },
   "file_extension": ".py",
   "mimetype": "text/x-python",
   "name": "python",
   "nbconvert_exporter": "python",
   "pygments_lexer": "ipython3",
   "version": "3.9.7"
  }
 },
 "nbformat": 4,
 "nbformat_minor": 5
}
