{
 "cells": [
  {
   "cell_type": "markdown",
   "id": "b5c7fa62",
   "metadata": {},
   "source": [
    "We follow unsupervised approach when our dataset has no target feature/column i.e., the dataset is unlabelled. The basic branch of unsupervised learning is 1: clustering,\n",
    "\n",
    "2: association,\n",
    "\n",
    "3: Dimensionality Reduction.\n",
    "\n",
    "In this notebook, I will dicsuss some part of clustering and implement few clustering based algorithms."
   ]
  },
  {
   "cell_type": "markdown",
   "id": "48a82881",
   "metadata": {},
   "source": [
    "Clustering simply groups the data into different groups based on the similar characteristics. \n",
    "\n",
    "Types of clustering approach:<br>\n",
    "Centroid based clustering: K-means clustering<br>\n",
    "Density based clustering: DBSCAN<br>\n",
    "Hierarchical clusteing:#####\n",
    "\n",
    "\n"
   ]
  },
  {
   "cell_type": "markdown",
   "id": "b51611f9",
   "metadata": {},
   "source": [
    "K-means clustering: Distance based clustering algorith. Updated version: K-means ++ that solves the problem of convergence (random cluster initialization) to some extent. We have another version that is K-mediods that makes the actual datapoint a centroid instead of imaginary cluster point. "
   ]
  },
  {
   "cell_type": "code",
   "execution_count": 16,
   "id": "cdaa4532",
   "metadata": {},
   "outputs": [],
   "source": [
    "from sklearn.cluster import KMeans\n",
    "from sklearn.preprocessing import StandardScaler\n",
    "from sklearn.model_selection import cross_val_score, KFold, RandomizedSearchCV\n",
    "import pandas as pd\n",
    "import matplotlib.pyplot as plt"
   ]
  },
  {
   "cell_type": "code",
   "execution_count": 13,
   "id": "92bb1932",
   "metadata": {},
   "outputs": [
    {
     "data": {
      "text/html": [
       "<div>\n",
       "<style scoped>\n",
       "    .dataframe tbody tr th:only-of-type {\n",
       "        vertical-align: middle;\n",
       "    }\n",
       "\n",
       "    .dataframe tbody tr th {\n",
       "        vertical-align: top;\n",
       "    }\n",
       "\n",
       "    .dataframe thead th {\n",
       "        text-align: right;\n",
       "    }\n",
       "</style>\n",
       "<table border=\"1\" class=\"dataframe\">\n",
       "  <thead>\n",
       "    <tr style=\"text-align: right;\">\n",
       "      <th></th>\n",
       "      <th>cgpa</th>\n",
       "      <th>iq</th>\n",
       "    </tr>\n",
       "  </thead>\n",
       "  <tbody>\n",
       "    <tr>\n",
       "      <th>0</th>\n",
       "      <td>5.13</td>\n",
       "      <td>88</td>\n",
       "    </tr>\n",
       "    <tr>\n",
       "      <th>1</th>\n",
       "      <td>5.90</td>\n",
       "      <td>113</td>\n",
       "    </tr>\n",
       "    <tr>\n",
       "      <th>2</th>\n",
       "      <td>8.36</td>\n",
       "      <td>93</td>\n",
       "    </tr>\n",
       "    <tr>\n",
       "      <th>3</th>\n",
       "      <td>8.27</td>\n",
       "      <td>97</td>\n",
       "    </tr>\n",
       "    <tr>\n",
       "      <th>4</th>\n",
       "      <td>5.45</td>\n",
       "      <td>110</td>\n",
       "    </tr>\n",
       "  </tbody>\n",
       "</table>\n",
       "</div>"
      ],
      "text/plain": [
       "   cgpa   iq\n",
       "0  5.13   88\n",
       "1  5.90  113\n",
       "2  8.36   93\n",
       "3  8.27   97\n",
       "4  5.45  110"
      ]
     },
     "execution_count": 13,
     "metadata": {},
     "output_type": "execute_result"
    }
   ],
   "source": [
    "data = pd.read_csv('dataset/student_clustering_data.csv')\n",
    "data.head()"
   ]
  },
  {
   "cell_type": "code",
   "execution_count": 15,
   "id": "c1f29dfb",
   "metadata": {},
   "outputs": [
    {
     "data": {
      "text/plain": [
       "(200, 2)"
      ]
     },
     "execution_count": 15,
     "metadata": {},
     "output_type": "execute_result"
    }
   ],
   "source": [
    "data.shape"
   ]
  },
  {
   "cell_type": "code",
   "execution_count": 17,
   "id": "6ad5a921",
   "metadata": {},
   "outputs": [
    {
     "data": {
      "text/plain": [
       "<matplotlib.collections.PathCollection at 0x1c485f14430>"
      ]
     },
     "execution_count": 17,
     "metadata": {},
     "output_type": "execute_result"
    },
    {
     "data": {
      "image/png": "[encoded data removed]",
      "text/plain": [
       "<Figure size 432x288 with 1 Axes>"
      ]
     },
     "metadata": {
      "needs_background": "light"
     },
     "output_type": "display_data"
    }
   ],
   "source": [
    "plt.scatter(data['cgpa'], data['iq'])"
   ]
  },
  {
   "cell_type": "code",
   "execution_count": 29,
   "id": "9edd1eb0",
   "metadata": {},
   "outputs": [
    {
     "name": "stderr",
     "output_type": "stream",
     "text": [
      "C:\\Users\\shree\\anaconda3\\lib\\site-packages\\sklearn\\cluster\\_kmeans.py:881: UserWarning: KMeans is known to have a memory leak on Windows with MKL, when there are less chunks than available threads. You can avoid it by setting the environment variable OMP_NUM_THREADS=1.\n",
      "  warnings.warn(\n"
     ]
    }
   ],
   "source": [
    "wcss_elbow = []\n",
    "for i in range(1,20):\n",
    "    knn = KMeans(n_clusters=i)\n",
    "    knn.fit(data)\n",
    "    wcss_elbow.append(knn.inertia_)"
   ]
  },
  {
   "cell_type": "code",
   "execution_count": 30,
   "id": "aba1d896",
   "metadata": {
    "scrolled": false
   },
   "outputs": [
    {
     "data": {
      "text/plain": [
       "[29957.898287999997,\n",
       " 4184.141269999999,\n",
       " 2362.7133490000015,\n",
       " 681.9696600000001,\n",
       " 530.4298616986187,\n",
       " 388.8524026875981,\n",
       " 302.65349935820814,\n",
       " 233.54082485509016,\n",
       " 198.22433643678957,\n",
       " 172.4919501547381,\n",
       " 153.1273429785248,\n",
       " 130.37033554696123,\n",
       " 112.32981421218494,\n",
       " 101.44196253967024,\n",
       " 85.8383847573885,\n",
       " 70.66074952831929,\n",
       " 65.2199815512339,\n",
       " 58.26743643052212,\n",
       " 52.026079637877615]"
      ]
     },
     "execution_count": 30,
     "metadata": {},
     "output_type": "execute_result"
    }
   ],
   "source": [
    "wcss_elbow "
   ]
  },
  {
   "cell_type": "code",
   "execution_count": 32,
   "id": "1c955f71",
   "metadata": {
    "scrolled": true
   },
   "outputs": [
    {
     "data": {
      "text/plain": [
       "[<matplotlib.lines.Line2D at 0x1c4890904c0>]"
      ]
     },
     "execution_count": 32,
     "metadata": {},
     "output_type": "execute_result"
    },
    {
     "data": {
      "image/png": "[encoded data removed]",
      "text/plain": [
       "<Figure size 432x288 with 1 Axes>"
      ]
     },
     "metadata": {
      "needs_background": "light"
     },
     "output_type": "display_data"
    }
   ],
   "source": [
    "plt.plot(range(1,20),wcss_elbow)"
   ]
  },
  {
   "cell_type": "markdown",
   "id": "ac4300bf",
   "metadata": {},
   "source": [
    "The elbow point is 4 so the number of clusters for our dataset is 4 which is in fact right according to our dummy data."
   ]
  },
  {
   "cell_type": "code",
   "execution_count": 33,
   "id": "64f6b825",
   "metadata": {},
   "outputs": [
    {
     "name": "stderr",
     "output_type": "stream",
     "text": [
      "C:\\Users\\shree\\anaconda3\\lib\\site-packages\\sklearn\\cluster\\_kmeans.py:881: UserWarning: KMeans is known to have a memory leak on Windows with MKL, when there are less chunks than available threads. You can avoid it by setting the environment variable OMP_NUM_THREADS=1.\n",
      "  warnings.warn(\n",
      "C:\\Users\\shree\\AppData\\Local\\Temp/ipykernel_16440/1420686825.py:4: ConvergenceWarning: Number of distinct clusters (193) found smaller than n_clusters (194). Possibly due to duplicate points in X.\n",
      "  knn.fit(data)\n",
      "C:\\Users\\shree\\AppData\\Local\\Temp/ipykernel_16440/1420686825.py:4: ConvergenceWarning: Number of distinct clusters (193) found smaller than n_clusters (195). Possibly due to duplicate points in X.\n",
      "  knn.fit(data)\n",
      "C:\\Users\\shree\\AppData\\Local\\Temp/ipykernel_16440/1420686825.py:4: ConvergenceWarning: Number of distinct clusters (193) found smaller than n_clusters (196). Possibly due to duplicate points in X.\n",
      "  knn.fit(data)\n",
      "C:\\Users\\shree\\AppData\\Local\\Temp/ipykernel_16440/1420686825.py:4: ConvergenceWarning: Number of distinct clusters (193) found smaller than n_clusters (197). Possibly due to duplicate points in X.\n",
      "  knn.fit(data)\n",
      "C:\\Users\\shree\\AppData\\Local\\Temp/ipykernel_16440/1420686825.py:4: ConvergenceWarning: Number of distinct clusters (193) found smaller than n_clusters (198). Possibly due to duplicate points in X.\n",
      "  knn.fit(data)\n",
      "C:\\Users\\shree\\AppData\\Local\\Temp/ipykernel_16440/1420686825.py:4: ConvergenceWarning: Number of distinct clusters (193) found smaller than n_clusters (199). Possibly due to duplicate points in X.\n",
      "  knn.fit(data)\n",
      "C:\\Users\\shree\\AppData\\Local\\Temp/ipykernel_16440/1420686825.py:4: ConvergenceWarning: Number of distinct clusters (193) found smaller than n_clusters (200). Possibly due to duplicate points in X.\n",
      "  knn.fit(data)\n"
     ]
    }
   ],
   "source": [
    "wcss_elbow = []\n",
    "for i in range(1,201):\n",
    "    knn = KMeans(n_clusters=i)\n",
    "    knn.fit(data)\n",
    "    wcss_elbow.append(knn.inertia_)"
   ]
  },
  {
   "cell_type": "code",
   "execution_count": 34,
   "id": "fac6fc8e",
   "metadata": {},
   "outputs": [
    {
     "data": {
      "text/plain": [
       "[29957.898287999997,\n",
       " 4184.141269999999,\n",
       " 2364.0055834200834,\n",
       " 681.9696600000001,\n",
       " 514.1616803171117,\n",
       " 398.4039118468834,\n",
       " 295.4391895943191,\n",
       " 233.54082485509016,\n",
       " 209.33293809196988,\n",
       " 176.07319712319224,\n",
       " 153.73018844436325,\n",
       " 139.8194731088377,\n",
       " 111.4050276248833,\n",
       " 93.12633999140566,\n",
       " 83.43618237643615,\n",
       " 77.58872636087098,\n",
       " 66.71958575605686,\n",
       " 62.074816092164816,\n",
       " 53.67760904011928,\n",
       " 49.223282489184825,\n",
       " 43.30524109322051,\n",
       " 38.390379931179936,\n",
       " 34.05934937562437,\n",
       " 31.38894445498945,\n",
       " 28.221097232767235,\n",
       " 24.430584693084683,\n",
       " 22.350699454989453,\n",
       " 18.578356121656114,\n",
       " 16.12833889943389,\n",
       " 14.076230010545006,\n",
       " 12.457774216894222,\n",
       " 10.969356439116448,\n",
       " 9.578904216894227,\n",
       " 8.999737550227563,\n",
       " 8.924815883560894,\n",
       " 7.937925883560893,\n",
       " 7.386975883560891,\n",
       " 6.678162550227557,\n",
       " 6.313831457431462,\n",
       " 5.839008362193367,\n",
       " 5.607166716894221,\n",
       " 5.089212528860035,\n",
       " 4.895385425685429,\n",
       " 4.463497063492066,\n",
       " 4.232092290764793,\n",
       " 3.9798907539682573,\n",
       " 3.8412168145743166,\n",
       " 3.5314825288600313,\n",
       " 3.4182488492063507,\n",
       " 3.3119448304473345,\n",
       " 3.0320467777777793,\n",
       " 2.8943135317460333,\n",
       " 2.685447211399712,\n",
       " 2.542216746031746,\n",
       " 2.314897406204906,\n",
       " 2.1361145390720373,\n",
       " 2.0925680079365083,\n",
       " 1.9061651984126986,\n",
       " 1.8058637698412694,\n",
       " 1.7763793650793647,\n",
       " 1.6663306507936522,\n",
       " 1.5734765873015875,\n",
       " 1.4718699053724051,\n",
       " 1.38351804029304,\n",
       " 1.3278907387057397,\n",
       " 1.2410655803571438,\n",
       " 1.154859960317461,\n",
       " 1.0676222077922077,\n",
       " 0.9474162698412701,\n",
       " 0.9379887301587306,\n",
       " 0.8769159126984131,\n",
       " 0.8548561428571427,\n",
       " 0.7994326190476191,\n",
       " 0.7697816666666668,\n",
       " 0.7431764285714284,\n",
       " 0.7071980555555558,\n",
       " 0.6421855555555555,\n",
       " 0.6394261904761905,\n",
       " 0.5777216666666666,\n",
       " 0.5570028571428568,\n",
       " 0.5392553174603179,\n",
       " 0.4881522222222227,\n",
       " 0.46101055555555537,\n",
       " 0.46220928571428627,\n",
       " 0.4370236507936513,\n",
       " 0.40049666666666683,\n",
       " 0.3804650000000001,\n",
       " 0.37660400000000027,\n",
       " 0.3542838888888893,\n",
       " 0.3308233333333335,\n",
       " 0.3136861904761908,\n",
       " 0.2813978571428567,\n",
       " 0.26585833333333336,\n",
       " 0.26462119047619087,\n",
       " 0.2366866666666668,\n",
       " 0.2313533333333337,\n",
       " 0.23019499999999973,\n",
       " 0.20536785714285713,\n",
       " 0.20718399999999987,\n",
       " 0.20122499999999963,\n",
       " 0.18221166666666655,\n",
       " 0.16888400000000023,\n",
       " 0.16892066666666705,\n",
       " 0.16230399999999973,\n",
       " 0.1507178571428572,\n",
       " 0.14724000000000034,\n",
       " 0.14162000000000008,\n",
       " 0.12604499999999996,\n",
       " 0.1277083333333334,\n",
       " 0.12165000000000022,\n",
       " 0.11435333333333342,\n",
       " 0.10866666666666647,\n",
       " 0.10496999999999997,\n",
       " 0.09874166666666659,\n",
       " 0.09347000000000005,\n",
       " 0.08820833333333347,\n",
       " 0.08269166666666655,\n",
       " 0.07873166666666669,\n",
       " 0.07659999999999999,\n",
       " 0.07296999999999994,\n",
       " 0.06796333333333368,\n",
       " 0.061724999999999905,\n",
       " 0.05903666666666667,\n",
       " 0.0552616666666668,\n",
       " 0.0507033333333333,\n",
       " 0.049153333333333375,\n",
       " 0.046011666666666735,\n",
       " 0.040328333333333376,\n",
       " 0.03887833333333338,\n",
       " 0.03565333333333345,\n",
       " 0.034833333333333286,\n",
       " 0.031828333333333306,\n",
       " 0.029778333333333285,\n",
       " 0.027911666666666498,\n",
       " 0.026495000000000102,\n",
       " 0.02530333333333323,\n",
       " 0.02207499999999998,\n",
       " 0.022900000000000132,\n",
       " 0.02020833333333336,\n",
       " 0.01886166666666668,\n",
       " 0.017158333333333397,\n",
       " 0.016241666666666772,\n",
       " 0.014741666666666643,\n",
       " 0.014149999999999986,\n",
       " 0.013150000000000054,\n",
       " 0.012149999999999968,\n",
       " 0.011241666666666698,\n",
       " 0.010141666666666816,\n",
       " 0.00934166666666678,\n",
       " 0.00901666666666676,\n",
       " 0.008583333333333469,\n",
       " 0.007991666666666704,\n",
       " 0.007349999999999978,\n",
       " 0.006866666666666646,\n",
       " 0.006449999999999964,\n",
       " 0.006000000000000002,\n",
       " 0.005516666666666677,\n",
       " 0.005133333333333328,\n",
       " 0.004683333333333292,\n",
       " 0.00419999999999998,\n",
       " 0.003750000000000058,\n",
       " 0.003333333333333335,\n",
       " 0.002916666666666686,\n",
       " 0.0027166666666666767,\n",
       " 0.0025166666666666844,\n",
       " 0.002316666666666693,\n",
       " 0.0021666666666666813,\n",
       " 0.0019166666666666564,\n",
       " 0.001766666666666663,\n",
       " 0.0015666666666666715,\n",
       " 0.0014166666666666247,\n",
       " 0.001266666666666649,\n",
       " 0.0011166666666666554,\n",
       " 0.0009666666666666439,\n",
       " 0.0008999999999999801,\n",
       " 0.000866666666666648,\n",
       " 0.0008166666666666411,\n",
       " 0.0007666666666666432,\n",
       " 0.0006999999999999794,\n",
       " 0.0006499999999999814,\n",
       " 0.0006000000000000011,\n",
       " 0.0005499999999999855,\n",
       " 0.0004999999999999875,\n",
       " 0.00046666666666665566,\n",
       " 0.0003999999999999918,\n",
       " 0.00036666666666665995,\n",
       " 0.00029999999999999607,\n",
       " 0.0002499999999999893,\n",
       " 0.00020000000000001812,\n",
       " 0.0001499999999999936,\n",
       " 9.999999999999574e-05,\n",
       " 4.999999999999787e-05,\n",
       " 0.0,\n",
       " 0.0,\n",
       " 0.0,\n",
       " 0.0,\n",
       " 0.0,\n",
       " 0.0,\n",
       " 0.0,\n",
       " 0.0]"
      ]
     },
     "execution_count": 34,
     "metadata": {},
     "output_type": "execute_result"
    }
   ],
   "source": [
    "wcss_elbow"
   ]
  },
  {
   "cell_type": "markdown",
   "id": "c3976eb9",
   "metadata": {},
   "source": [
    "#since we now know that n_clusters = 4 is the best value for k, let's use it and do further process to make the clusters"
   ]
  },
  {
   "cell_type": "code",
   "execution_count": 35,
   "id": "fd162418",
   "metadata": {},
   "outputs": [],
   "source": [
    "X = data.iloc[:,:].values"
   ]
  },
  {
   "cell_type": "code",
   "execution_count": 36,
   "id": "03ef146d",
   "metadata": {},
   "outputs": [],
   "source": [
    "knn_second = KMeans(n_clusters=4)\n",
    "x = knn_second.fit_predict(X)"
   ]
  },
  {
   "cell_type": "code",
   "execution_count": 37,
   "id": "ce5a5ffc",
   "metadata": {
    "scrolled": true
   },
   "outputs": [
    {
     "data": {
      "text/plain": [
       "array([2, 3, 0, 0, 3, 3, 0, 1, 3, 0, 2, 3, 0, 2, 3, 0, 3, 0, 3, 3, 0, 2,\n",
       "       0, 2, 2, 0, 2, 1, 0, 3, 1, 3, 1, 3, 0, 0, 1, 3, 2, 3, 2, 0, 0, 2,\n",
       "       1, 1, 0, 3, 1, 3, 2, 2, 1, 0, 1, 3, 3, 1, 3, 1, 3, 0, 0, 1, 2, 1,\n",
       "       0, 2, 3, 0, 3, 1, 0, 2, 3, 1, 3, 1, 2, 0, 0, 1, 3, 2, 1, 2, 1, 3,\n",
       "       1, 3, 1, 1, 0, 2, 0, 0, 1, 0, 2, 1, 3, 2, 2, 1, 2, 2, 0, 2, 1, 1,\n",
       "       0, 1, 3, 3, 0, 1, 0, 3, 1, 2, 2, 3, 0, 1, 0, 2, 0, 3, 2, 0, 0, 3,\n",
       "       2, 2, 3, 1, 3, 2, 0, 0, 0, 2, 3, 2, 2, 1, 2, 1, 3, 2, 1, 2, 1, 1,\n",
       "       2, 0, 3, 1, 3, 0, 2, 1, 3, 0, 1, 2, 3, 2, 2, 1, 1, 3, 1, 2, 2, 0,\n",
       "       1, 3, 2, 1, 1, 3, 3, 3, 0, 2, 0, 0, 1, 3, 0, 0, 2, 2, 0, 2, 1, 3,\n",
       "       3, 1])"
      ]
     },
     "execution_count": 37,
     "metadata": {},
     "output_type": "execute_result"
    }
   ],
   "source": [
    "x"
   ]
  },
  {
   "cell_type": "code",
   "execution_count": 44,
   "id": "1fdffa97",
   "metadata": {
    "scrolled": false
   },
   "outputs": [
    {
     "data": {
      "text/plain": [
       "array([[  8.1998,  94.6   ],\n",
       "       [  8.8714, 117.16  ],\n",
       "       [  4.9676,  86.7   ],\n",
       "       [  5.8948, 109.52  ]])"
      ]
     },
     "execution_count": 44,
     "metadata": {},
     "output_type": "execute_result"
    }
   ],
   "source": [
    "knn_second.cluster_centers_"
   ]
  },
  {
   "cell_type": "code",
   "execution_count": 46,
   "id": "d632d10e",
   "metadata": {
    "scrolled": true
   },
   "outputs": [
    {
     "data": {
      "text/plain": [
       "3"
      ]
     },
     "execution_count": 46,
     "metadata": {},
     "output_type": "execute_result"
    }
   ],
   "source": [
    "knn_second.n_iter_"
   ]
  },
  {
   "cell_type": "code",
   "execution_count": 48,
   "id": "c441c81b",
   "metadata": {},
   "outputs": [
    {
     "data": {
      "text/plain": [
       "2"
      ]
     },
     "execution_count": 48,
     "metadata": {},
     "output_type": "execute_result"
    }
   ],
   "source": [
    "knn_second.n_features_in_"
   ]
  },
  {
   "cell_type": "code",
   "execution_count": 50,
   "id": "56dd0e07",
   "metadata": {},
   "outputs": [
    {
     "data": {
      "text/plain": [
       "array([[ 8.36, 93.  ],\n",
       "       [ 8.27, 97.  ],\n",
       "       [ 8.41, 98.  ],\n",
       "       [ 8.09, 94.  ],\n",
       "       [ 8.16, 97.  ]])"
      ]
     },
     "execution_count": 50,
     "metadata": {},
     "output_type": "execute_result"
    }
   ],
   "source": [
    "X[x==0][0:5]"
   ]
  },
  {
   "cell_type": "code",
   "execution_count": 51,
   "id": "027a3a83",
   "metadata": {},
   "outputs": [
    {
     "data": {
      "text/plain": [
       "array([[  8.8 , 115.  ],\n",
       "       [  9.18, 119.  ],\n",
       "       [  8.86, 117.  ],\n",
       "       [  8.83, 118.  ],\n",
       "       [  8.56, 118.  ]])"
      ]
     },
     "execution_count": 51,
     "metadata": {},
     "output_type": "execute_result"
    }
   ],
   "source": [
    "X[x==1][0:5]"
   ]
  },
  {
   "cell_type": "code",
   "execution_count": 52,
   "id": "cc7db40b",
   "metadata": {},
   "outputs": [
    {
     "data": {
      "text/plain": [
       "array([[ 5.13, 88.  ],\n",
       "       [ 4.6 , 86.  ],\n",
       "       [ 5.  , 88.  ],\n",
       "       [ 4.86, 86.  ],\n",
       "       [ 4.78, 87.  ]])"
      ]
     },
     "execution_count": 52,
     "metadata": {},
     "output_type": "execute_result"
    }
   ],
   "source": [
    "X[x==2][0:5]"
   ]
  },
  {
   "cell_type": "code",
   "execution_count": 53,
   "id": "554c5bdd",
   "metadata": {},
   "outputs": [
    {
     "data": {
      "text/plain": [
       "array([[  5.9 , 113.  ],\n",
       "       [  5.45, 110.  ],\n",
       "       [  5.88, 109.  ],\n",
       "       [  5.79, 110.  ],\n",
       "       [  6.1 , 110.  ]])"
      ]
     },
     "execution_count": 53,
     "metadata": {},
     "output_type": "execute_result"
    }
   ],
   "source": [
    "X[x==3][0:5]"
   ]
  },
  {
   "cell_type": "code",
   "execution_count": 60,
   "id": "c168c666",
   "metadata": {},
   "outputs": [
    {
     "data": {
      "text/plain": [
       "<matplotlib.collections.PathCollection at 0x1c489283e20>"
      ]
     },
     "execution_count": 60,
     "metadata": {},
     "output_type": "execute_result"
    },
    {
     "data": {
      "image/png": "[encoded data removed]",
      "text/plain": [
       "<Figure size 432x288 with 1 Axes>"
      ]
     },
     "metadata": {
      "needs_background": "light"
     },
     "output_type": "display_data"
    }
   ],
   "source": [
    "plt.scatter(X[x==0,0],X[x==0,1],color='blue')\n",
    "plt.scatter(X[x==1,0],X[x==1,1],color='green')\n",
    "plt.scatter(X[x==2,0],X[x==2,1],color='red')\n",
    "plt.scatter(X[x==3,0],X[x==3,1],color='yellow')\n",
    "plt.scatter(5.13,88,color='black')"
   ]
  },
  {
   "cell_type": "code",
   "execution_count": 63,
   "id": "4de0979a",
   "metadata": {},
   "outputs": [
    {
     "data": {
      "text/plain": [
       "array([0])"
      ]
     },
     "execution_count": 63,
     "metadata": {},
     "output_type": "execute_result"
    }
   ],
   "source": [
    "knn_second.predict([[6.13,98]])"
   ]
  },
  {
   "cell_type": "code",
   "execution_count": null,
   "id": "691ad9fd",
   "metadata": {},
   "outputs": [],
   "source": []
  }
 ],
 "metadata": {
  "kernelspec": {
   "display_name": "Python 3 (ipykernel)",
   "language": "python",
   "name": "python3"
  },
  "language_info": {
   "codemirror_mode": {
    "name": "ipython",
    "version": 3
   },
   "file_extension": ".py",
   "mimetype": "text/x-python",
   "name": "python",
   "nbconvert_exporter": "python",
   "pygments_lexer": "ipython3",
   "version": "3.9.7"
  }
 },
 "nbformat": 4,
 "nbformat_minor": 5
}
