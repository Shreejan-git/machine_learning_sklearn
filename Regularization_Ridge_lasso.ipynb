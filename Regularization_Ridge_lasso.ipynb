{
 "cells": [
  {
   "cell_type": "markdown",
   "id": "76056e62",
   "metadata": {},
   "source": [
    "# Simple implementation of Ridge and Lasso regularization using sklearn"
   ]
  },
  {
   "cell_type": "code",
   "execution_count": 22,
   "id": "5a7d3dc3",
   "metadata": {},
   "outputs": [],
   "source": [
    "from sklearn.datasets import make_regression, load_diabetes\n",
    "import pandas as pd\n",
    "import numpy as np\n",
    "from sklearn.linear_model import LinearRegression\n",
    "from sklearn.linear_model import Ridge, Lasso\n",
    "from sklearn.model_selection import train_test_split\n",
    "\n",
    "from sklearn.metrics import r2_score, mean_squared_error\n",
    "\n",
    "import matplotlib.pyplot as plt"
   ]
  },
  {
   "cell_type": "markdown",
   "id": "45ed403d",
   "metadata": {},
   "source": [
    "We use regularization to prevent from overfitting. In the loss function, if we use <strong>Ridge</strong>, we add (alpha * m**2) i.e. alpha >=0, and m is coefficient, and we square all the m. <br> whereas if we use <Strong> Lasso </Strong>, we add (alpha * abs(m)) where we take the absoulte value of all the m. <br> <br> USE OF ALPHA: If the value of ALPHA is set to zero, we can call it normal linear regression and when we increase the value of the bias will also start to increase and the overfitting will start to decrease. BUT if we set the value of alpha huge, the model will start to underfit"
   ]
  },
  {
   "cell_type": "markdown",
   "id": "e7389afb",
   "metadata": {},
   "source": [
    "The difference in the result between Ridge and Lasso will be seen when we use large dimension of data. In Lasso, while penalizing, those features which is less important will get eliminated or will get converted into zero (we can say that Lasso regression does a feature selection internally) But in Ridge, the unimportant feature will never convert into zero but will become close to zero."
   ]
  },
  {
   "cell_type": "code",
   "execution_count": 76,
   "id": "0f18950b",
   "metadata": {},
   "outputs": [],
   "source": [
    "X,y = make_regression(n_features=10, n_targets=1, n_samples=200, n_informative=7, noise=20, bias=0.2, random_state=3)"
   ]
  },
  {
   "cell_type": "code",
   "execution_count": 77,
   "id": "dba2677a",
   "metadata": {},
   "outputs": [],
   "source": [
    "Xtrain, Xtest, ytrain, ytest = train_test_split(X,y, test_size=0.1, random_state=2)"
   ]
  },
  {
   "cell_type": "code",
   "execution_count": 78,
   "id": "0cc4ad07",
   "metadata": {},
   "outputs": [
    {
     "data": {
      "text/plain": [
       "LinearRegression()"
      ]
     },
     "execution_count": 78,
     "metadata": {},
     "output_type": "execute_result"
    }
   ],
   "source": [
    "lr = LinearRegression()\n",
    "lr.fit(Xtrain, ytrain)"
   ]
  },
  {
   "cell_type": "code",
   "execution_count": 79,
   "id": "26759b85",
   "metadata": {},
   "outputs": [],
   "source": [
    "pred = lr.predict(Xtest)"
   ]
  },
  {
   "cell_type": "code",
   "execution_count": 88,
   "id": "95993a05",
   "metadata": {
    "scrolled": true
   },
   "outputs": [
    {
     "name": "stdout",
     "output_type": "stream",
     "text": [
      "R2 score using normal OLS linear regression 0.9773295928970842\n"
     ]
    }
   ],
   "source": [
    "rtwo = r2_score(ytest, pred)\n",
    "print('R2 score using normal OLS linear regression:', rtwo)"
   ]
  },
  {
   "cell_type": "code",
   "execution_count": null,
   "id": "1d1651aa",
   "metadata": {},
   "outputs": [],
   "source": [
    "While using Ridge regression (L2) and Lasso Regression (L1), we have to pass the value for alpha."
   ]
  },
  {
   "cell_type": "code",
   "execution_count": 89,
   "id": "3f51373e",
   "metadata": {},
   "outputs": [
    {
     "name": "stdout",
     "output_type": "stream",
     "text": [
      "R2 score using normal Ridge regression: 0.9778450282935707\n"
     ]
    }
   ],
   "source": [
    "rr = Ridge()\n",
    "rr.fit(Xtrain, ytrain)\n",
    "pred_r = rr.predict(Xtest)\n",
    "rtwor = r2_score(ytest,pred_r)\n",
    "print('R2 score using normal Ridge regression:', rtwor)"
   ]
  },
  {
   "cell_type": "code",
   "execution_count": 90,
   "id": "ad61d02e",
   "metadata": {},
   "outputs": [
    {
     "name": "stdout",
     "output_type": "stream",
     "text": [
      "R2 score using normal Lasso regression: 0.9784331613591801\n"
     ]
    }
   ],
   "source": [
    "rl = Lasso()\n",
    "rl.fit(Xtrain, ytrain)\n",
    "pred_l=rl.predict(Xtest)\n",
    "rtwol = r2_score(ytest, pred_l)\n",
    "print('R2 score using normal Lasso regression:', rtwol)"
   ]
  },
  {
   "cell_type": "code",
   "execution_count": null,
   "id": "ae2c2f6c",
   "metadata": {},
   "outputs": [],
   "source": []
  }
 ],
 "metadata": {
  "kernelspec": {
   "display_name": "Python 3 (ipykernel)",
   "language": "python",
   "name": "python3"
  },
  "language_info": {
   "codemirror_mode": {
    "name": "ipython",
    "version": 3
   },
   "file_extension": ".py",
   "mimetype": "text/x-python",
   "name": "python",
   "nbconvert_exporter": "python",
   "pygments_lexer": "ipython3",
   "version": "3.9.7"
  }
 },
 "nbformat": 4,
 "nbformat_minor": 5
}
