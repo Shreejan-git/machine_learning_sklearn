{
 "cells": [
  {
   "cell_type": "code",
   "execution_count": 1,
   "id": "0d84965b",
   "metadata": {},
   "outputs": [],
   "source": [
    "import numpy as np\n",
    "import time"
   ]
  },
  {
   "cell_type": "markdown",
   "id": "e002bf99",
   "metadata": {},
   "source": [
    "This is the world's simplest example of taking the advantage of the concept of vectorization using numpy. <br> Vectorization in simple sentence is avoiding using explicit for loop. Instead of using for loop and going for element wise multiplication and adding the result to c, numpy dot product does this with the concpet of parallelism. Below, I have compared the time complexity of doing dot product using numpy.dot() and using for loop. We can clearly see the difference."
   ]
  },
  {
   "cell_type": "code",
   "execution_count": 8,
   "id": "39ac636a",
   "metadata": {},
   "outputs": [
    {
     "data": {
      "text/plain": [
       "(10000000,)"
      ]
     },
     "execution_count": 8,
     "metadata": {},
     "output_type": "execute_result"
    }
   ],
   "source": [
    "n = 10000000 #10 million data\n",
    "a = np.ones(n)\n",
    "b = np.ones(n)\n"
   ]
  },
  {
   "cell_type": "code",
   "execution_count": 16,
   "id": "b3db3f92",
   "metadata": {},
   "outputs": [
    {
     "name": "stdout",
     "output_type": "stream",
     "text": [
      "10000000.0\n",
      "3.2466917037963867\n"
     ]
    }
   ],
   "source": [
    "start = time.time()\n",
    "c = 0\n",
    "for i in range(n):\n",
    "    c+= a[i]*b[i]\n",
    "print(c)\n",
    "end = time.time()\n",
    "print(end-start)"
   ]
  },
  {
   "cell_type": "code",
   "execution_count": 15,
   "id": "d859578f",
   "metadata": {},
   "outputs": [
    {
     "name": "stdout",
     "output_type": "stream",
     "text": [
      "10000000.0\n",
      "0.01102447509765625\n"
     ]
    }
   ],
   "source": [
    "s = time.time()\n",
    "c = np.dot(a,b)\n",
    "print(c)\n",
    "e = time.time()\n",
    "print(e-s)"
   ]
  },
  {
   "cell_type": "code",
   "execution_count": null,
   "id": "b2e9645d",
   "metadata": {},
   "outputs": [],
   "source": []
  }
 ],
 "metadata": {
  "kernelspec": {
   "display_name": "Python 3 (ipykernel)",
   "language": "python",
   "name": "python3"
  },
  "language_info": {
   "codemirror_mode": {
    "name": "ipython",
    "version": 3
   },
   "file_extension": ".py",
   "mimetype": "text/x-python",
   "name": "python",
   "nbconvert_exporter": "python",
   "pygments_lexer": "ipython3",
   "version": "3.9.7"
  }
 },
 "nbformat": 4,
 "nbformat_minor": 5
}
