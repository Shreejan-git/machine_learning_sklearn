{
 "cells": [
  {
   "cell_type": "code",
   "execution_count": 21,
   "id": "b6b4dddb",
   "metadata": {},
   "outputs": [],
   "source": [
    "from sklearn.datasets import load_diabetes\n",
    "from sklearn.linear_model import LinearRegression\n",
    "\n",
    "from sklearn.model_selection import train_test_split\n",
    "from sklearn.metrics import mean_squared_error, r2_score\n",
    "import numpy as np"
   ]
  },
  {
   "cell_type": "code",
   "execution_count": 23,
   "id": "1863531c",
   "metadata": {},
   "outputs": [],
   "source": [
    "X,y = load_diabetes(return_X_y=True)"
   ]
  },
  {
   "cell_type": "code",
   "execution_count": 13,
   "id": "87df82d6",
   "metadata": {},
   "outputs": [
    {
     "data": {
      "text/plain": [
       "(442, 10)"
      ]
     },
     "execution_count": 13,
     "metadata": {},
     "output_type": "execute_result"
    }
   ],
   "source": [
    "X.shape"
   ]
  },
  {
   "cell_type": "code",
   "execution_count": 16,
   "id": "bba9c1ed",
   "metadata": {},
   "outputs": [
    {
     "data": {
      "text/plain": [
       "(397, 10)"
      ]
     },
     "execution_count": 16,
     "metadata": {},
     "output_type": "execute_result"
    }
   ],
   "source": [
    "Xtrain, Xtest, ytrain, ytest = train_test_split(X,y, test_size=0.1, random_state=1)\n",
    "Xtrain.shape"
   ]
  },
  {
   "cell_type": "code",
   "execution_count": 17,
   "id": "8c9a4d3f",
   "metadata": {},
   "outputs": [
    {
     "data": {
      "text/plain": [
       "LinearRegression()"
      ]
     },
     "execution_count": 17,
     "metadata": {},
     "output_type": "execute_result"
    }
   ],
   "source": [
    "lr = LinearRegression()\n",
    "lr.fit(Xtrain,ytrain)"
   ]
  },
  {
   "cell_type": "code",
   "execution_count": 18,
   "id": "63da6e9c",
   "metadata": {},
   "outputs": [
    {
     "data": {
      "text/plain": [
       "array([ -26.2759041 , -231.92697391,  566.49859849,  303.08631061,\n",
       "       -709.86807128,  428.67719627,   82.12319677,  165.60628133,\n",
       "        729.33691844,   42.58281733])"
      ]
     },
     "execution_count": 18,
     "metadata": {},
     "output_type": "execute_result"
    }
   ],
   "source": [
    "lr.coef_"
   ]
  },
  {
   "cell_type": "code",
   "execution_count": 19,
   "id": "d02ce299",
   "metadata": {},
   "outputs": [
    {
     "data": {
      "text/plain": [
       "151.4520908664676"
      ]
     },
     "execution_count": 19,
     "metadata": {},
     "output_type": "execute_result"
    }
   ],
   "source": [
    "lr.intercept_"
   ]
  },
  {
   "cell_type": "code",
   "execution_count": 22,
   "id": "cbd66136",
   "metadata": {},
   "outputs": [
    {
     "name": "stdout",
     "output_type": "stream",
     "text": [
      "57.616773487757534 \n",
      " 0.3174949176473588\n"
     ]
    }
   ],
   "source": [
    "pred=lr.predict(Xtest)\n",
    "rmse = np.sqrt(mean_squared_error(ytest, pred))\n",
    "r_two = r2_score(ytest, pred)\n",
    "\n",
    "print(rmse,'\\n', r_two)"
   ]
  },
  {
   "cell_type": "code",
   "execution_count": 56,
   "id": "01b37f80",
   "metadata": {},
   "outputs": [],
   "source": [
    "class MultiFeatureGD:\n",
    "    \n",
    "    def __init__(self, learning_rate, epochs):\n",
    "        self.lrr = learning_rate\n",
    "        self.epochs = epochs\n",
    "        self.intercept_ = None\n",
    "        self.coef_ = None\n",
    "        \n",
    "    def fit(self, X,y):\n",
    "        \n",
    "        self.intercept_ = 0\n",
    "        self.coef_ = np.ones(X.shape[1])\n",
    "        \n",
    "        for i in range(self.epochs):\n",
    "            #first updating all the coefficients and an intercept\n",
    "            \n",
    "            #WE MUST KNOW THE CONCEPT OF VECTORIZATION. recommended video: https://www.youtube.com/watch?v=qsIrQi0fzbY\n",
    "            #In simple sentence, vectorization is avoiding the for loops.\n",
    "            \n",
    "            #intercept\n",
    "            yhat = np.dot(X,self.coef_) + self.intercept_\n",
    "            slope_intercept = -2 * np.mean(y-yhat)\n",
    "            step_size = self.lrr * slope_intercept\n",
    "            self.intercept_ = self.intercept_ - step_size\n",
    "            \n",
    "            \n",
    "            #coefficient\n",
    "            slop_coef = -2 * np.dot((y - yhat), X) / X.shape[0] #We obtain this step after doing the derivative and understanding\n",
    "            #the matrix and vectors.\n",
    "            step_size = self.lrr * slop_coef\n",
    "            self.coef_ = self.coef_ - step_size\n",
    "            \n",
    "        print(f'The y-intercept: {self.intercept_},\\n The coefficient:{self.coef_}')\n",
    "            \n",
    "    def predict(self,Xtest):\n",
    "        return np.dot(Xtest, self.coef_) + self.intercept_\n",
    "            "
   ]
  },
  {
   "cell_type": "code",
   "execution_count": 66,
   "id": "be40d257",
   "metadata": {},
   "outputs": [
    {
     "name": "stdout",
     "output_type": "stream",
     "text": [
      "The y-intercept: 152.13348416289637,\n",
      " The coefficient:[  -5.39407432 -233.77260766  524.52549429  319.75669124  -61.83765052\n",
      " -116.38548375 -206.63815552  119.51732693  455.28947752   84.87407198]\n"
     ]
    }
   ],
   "source": [
    "a = MultiFeatureGD(0.1,10000)\n",
    "a.fit(X,y)"
   ]
  },
  {
   "cell_type": "code",
   "execution_count": 67,
   "id": "02edcae6",
   "metadata": {},
   "outputs": [
    {
     "data": {
      "text/plain": [
       "array([117.61085739, 107.55989952, 184.509519  ,  68.97458556,\n",
       "       172.08863319, 190.55722889, 219.05564124, 124.97490287,\n",
       "       155.97700508, 127.87483182, 208.07661286, 197.70589445,\n",
       "        92.47949295,  75.52149947, 231.94400307, 203.84975848,\n",
       "       176.80653413, 100.76790908, 118.75465112, 168.12568832,\n",
       "       187.70938662,  89.09538869, 142.78368775, 104.41473801,\n",
       "        91.68927596, 210.3241617 ,  95.09103118, 172.0769282 ,\n",
       "       123.76627928, 181.07260254, 158.23857229, 136.95721253,\n",
       "       189.79612497,  96.66898386, 160.3128906 , 189.44763873,\n",
       "       105.27801983, 245.27273189, 171.3772019 , 185.05336944,\n",
       "       160.33762524, 182.27380073, 119.79426219, 123.19954979,\n",
       "       140.68360779])"
      ]
     },
     "execution_count": 67,
     "metadata": {},
     "output_type": "execute_result"
    }
   ],
   "source": [
    "pred = a.predict(Xtest)\n",
    "pred"
   ]
  },
  {
   "cell_type": "code",
   "execution_count": 69,
   "id": "8c268f2f",
   "metadata": {},
   "outputs": [
    {
     "data": {
      "text/plain": [
       "0.33604625883586936"
      ]
     },
     "execution_count": 69,
     "metadata": {},
     "output_type": "execute_result"
    }
   ],
   "source": [
    "r2_score(ytest, pred) #The model can be improved by tuning the hyperparamaters"
   ]
  }
 ],
 "metadata": {
  "kernelspec": {
   "display_name": "Python 3 (ipykernel)",
   "language": "python",
   "name": "python3"
  },
  "language_info": {
   "codemirror_mode": {
    "name": "ipython",
    "version": 3
   },
   "file_extension": ".py",
   "mimetype": "text/x-python",
   "name": "python",
   "nbconvert_exporter": "python",
   "pygments_lexer": "ipython3",
   "version": "3.9.7"
  }
 },
 "nbformat": 4,
 "nbformat_minor": 5
}
