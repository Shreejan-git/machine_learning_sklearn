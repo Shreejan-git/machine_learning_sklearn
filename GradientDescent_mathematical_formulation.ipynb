{
 "cells": [
  {
   "cell_type": "markdown",
   "id": "397018fc",
   "metadata": {},
   "source": [
    "In this notebook, I have first implemented linearRegression to get the best value of m and b for simple linear regression. <br>\n",
    "Whole implementation has been divided into two parts.<br> 1st: I gave the same value for m in every epoch and tried to get the best value of b in every epoch which was obtained from LinearRegression. <br>\n",
    "2nd: Have implemented OOP concept to get the optimized value of both m and b."
   ]
  },
  {
   "cell_type": "code",
   "execution_count": 1,
   "id": "2c2ea1e8",
   "metadata": {},
   "outputs": [],
   "source": [
    "from sklearn.datasets import make_regression\n",
    "import numpy as np\n",
    "import pandas as pd\n",
    "import matplotlib.pyplot as plt"
   ]
  },
  {
   "cell_type": "code",
   "execution_count": 2,
   "id": "aace6995",
   "metadata": {},
   "outputs": [
    {
     "data": {
      "text/html": [
       "<div>\n",
       "<style scoped>\n",
       "    .dataframe tbody tr th:only-of-type {\n",
       "        vertical-align: middle;\n",
       "    }\n",
       "\n",
       "    .dataframe tbody tr th {\n",
       "        vertical-align: top;\n",
       "    }\n",
       "\n",
       "    .dataframe thead th {\n",
       "        text-align: right;\n",
       "    }\n",
       "</style>\n",
       "<table border=\"1\" class=\"dataframe\">\n",
       "  <thead>\n",
       "    <tr style=\"text-align: right;\">\n",
       "      <th></th>\n",
       "      <th>f1</th>\n",
       "      <th>target</th>\n",
       "    </tr>\n",
       "  </thead>\n",
       "  <tbody>\n",
       "    <tr>\n",
       "      <th>0</th>\n",
       "      <td>-2.301539</td>\n",
       "      <td>-17.633565</td>\n",
       "    </tr>\n",
       "    <tr>\n",
       "      <th>1</th>\n",
       "      <td>-0.761207</td>\n",
       "      <td>5.375113</td>\n",
       "    </tr>\n",
       "    <tr>\n",
       "      <th>2</th>\n",
       "      <td>-0.528172</td>\n",
       "      <td>-23.653796</td>\n",
       "    </tr>\n",
       "    <tr>\n",
       "      <th>3</th>\n",
       "      <td>1.744812</td>\n",
       "      <td>19.378131</td>\n",
       "    </tr>\n",
       "    <tr>\n",
       "      <th>4</th>\n",
       "      <td>0.319039</td>\n",
       "      <td>11.549990</td>\n",
       "    </tr>\n",
       "  </tbody>\n",
       "</table>\n",
       "</div>"
      ],
      "text/plain": [
       "         f1     target\n",
       "0 -2.301539 -17.633565\n",
       "1 -0.761207   5.375113\n",
       "2 -0.528172 -23.653796\n",
       "3  1.744812  19.378131\n",
       "4  0.319039  11.549990"
      ]
     },
     "execution_count": 2,
     "metadata": {},
     "output_type": "execute_result"
    }
   ],
   "source": [
    "X,y = make_regression(n_features=1, n_targets=1, n_samples=10, n_informative=1, noise=20, random_state=1)\n",
    "data=pd.DataFrame({'f1':X[:,0],'target':y})\n",
    "data.head()"
   ]
  },
  {
   "cell_type": "code",
   "execution_count": 3,
   "id": "a049fa15",
   "metadata": {},
   "outputs": [
    {
     "data": {
      "text/plain": [
       "<matplotlib.collections.PathCollection at 0x1059efe7f70>"
      ]
     },
     "execution_count": 3,
     "metadata": {},
     "output_type": "execute_result"
    },
    {
     "data": {
      "image/png": "[encoded data removed]",
      "text/plain": [
       "<Figure size 432x288 with 1 Axes>"
      ]
     },
     "metadata": {
      "needs_background": "light"
     },
     "output_type": "display_data"
    }
   ],
   "source": [
    "plt.scatter(data['f1'], data['target'])"
   ]
  },
  {
   "cell_type": "code",
   "execution_count": 4,
   "id": "12b8db77",
   "metadata": {},
   "outputs": [],
   "source": [
    "from sklearn.linear_model import LinearRegression"
   ]
  },
  {
   "cell_type": "code",
   "execution_count": 5,
   "id": "8f12f610",
   "metadata": {
    "scrolled": true
   },
   "outputs": [
    {
     "name": "stdout",
     "output_type": "stream",
     "text": [
      "[4.19734486] 3.1940760375488\n"
     ]
    }
   ],
   "source": [
    "lr = LinearRegression()\n",
    "lr.fit(data[['f1']], data['target'])\n",
    "print(lr.coef_, lr.intercept_)"
   ]
  },
  {
   "cell_type": "code",
   "execution_count": 6,
   "id": "71d28f79",
   "metadata": {
    "scrolled": true
   },
   "outputs": [
    {
     "data": {
      "text/plain": [
       "[<matplotlib.lines.Line2D at 0x1059f36bfd0>]"
      ]
     },
     "execution_count": 6,
     "metadata": {},
     "output_type": "execute_result"
    },
    {
     "data": {
      "image/png": "[encoded data removed]",
      "text/plain": [
       "<Figure size 432x288 with 1 Axes>"
      ]
     },
     "metadata": {
      "needs_background": "light"
     },
     "output_type": "display_data"
    }
   ],
   "source": [
    "plt.scatter(data['f1'], data['target'])\n",
    "plt.plot(X,lr.predict(X))"
   ]
  },
  {
   "cell_type": "markdown",
   "id": "cb334d24",
   "metadata": {},
   "source": [
    "# We are just finding the optimize value of b assuming we already have a best value for m. i.e. 4.197. Our aim is to get the value of 3.19 for b starting with 10"
   ]
  },
  {
   "cell_type": "raw",
   "id": "54d53aea",
   "metadata": {},
   "source": [
    "yhat = m*x+b #m=slope and b = y_intercept\n",
    "\n",
    "l = summation((yactual-yhat)^2) #sum of squared residual. This is the difference between actual_y and predicted_y\n",
    "\n",
    "l = summation((yactual-(m*x+b))^2) #subsituting the yhat value.\n",
    "\n",
    "l = summation((yactual=m*x-b)^2) #taking the derivatives of this step with respect to b. Because we want to see the change in L in change of b\n",
    "\n",
    "dl/db = summation(-2 *(yactual-m*x-b)) #This is the final result after we do derivatives.\n",
    "\n",
    "Now, we have a value of yactual, m, x and we start b with any random value. This is how we optimize the value in every epoch."
   ]
  },
  {
   "cell_type": "code",
   "execution_count": null,
   "id": "acf7406e",
   "metadata": {},
   "outputs": [],
   "source": []
  },
  {
   "cell_type": "code",
   "execution_count": 7,
   "id": "bc8c20d3",
   "metadata": {},
   "outputs": [],
   "source": [
    "m = 4.197\n",
    "lrr = 0.01 #learning rate\n",
    "b_one = 10"
   ]
  },
  {
   "cell_type": "code",
   "execution_count": null,
   "id": "e32a4fc8",
   "metadata": {},
   "outputs": [],
   "source": []
  },
  {
   "cell_type": "code",
   "execution_count": 8,
   "id": "68beb9e8",
   "metadata": {},
   "outputs": [
    {
     "data": {
      "text/plain": [
       "136.1191492437543"
      ]
     },
     "execution_count": 8,
     "metadata": {},
     "output_type": "execute_result"
    }
   ],
   "source": [
    "#1st epoch\n",
    "l_one = -2 * np.sum(y - m*X.ravel() - b_one)\n",
    "l_one #slope"
   ]
  },
  {
   "cell_type": "code",
   "execution_count": 9,
   "id": "08ddbaad",
   "metadata": {},
   "outputs": [
    {
     "data": {
      "text/plain": [
       "1.361191492437543"
      ]
     },
     "execution_count": 9,
     "metadata": {},
     "output_type": "execute_result"
    }
   ],
   "source": [
    "#ss = step size\n",
    "ss_one = lrr*l_one\n",
    "ss_one"
   ]
  },
  {
   "cell_type": "code",
   "execution_count": 10,
   "id": "8ce0b6f0",
   "metadata": {},
   "outputs": [
    {
     "data": {
      "text/plain": [
       "8.638808507562457"
      ]
     },
     "execution_count": 10,
     "metadata": {},
     "output_type": "execute_result"
    }
   ],
   "source": [
    "b_two = b_one - ss_one\n",
    "b_two #new value of b"
   ]
  },
  {
   "cell_type": "code",
   "execution_count": 11,
   "id": "3303b45e",
   "metadata": {},
   "outputs": [
    {
     "data": {
      "text/plain": [
       "array([-1.0207494 ,  5.44402314,  6.42207166, 15.96178348,  9.97781559,\n",
       "        6.07126684, 15.456186  , 12.27092433,  4.1355592 ,  7.59220104])"
      ]
     },
     "execution_count": 11,
     "metadata": {},
     "output_type": "execute_result"
    }
   ],
   "source": [
    "yhat_two = m*X.ravel()+b_two\n",
    "yhat_two"
   ]
  },
  {
   "cell_type": "code",
   "execution_count": 12,
   "id": "17f49835",
   "metadata": {},
   "outputs": [
    {
     "data": {
      "text/plain": [
       "[<matplotlib.lines.Line2D at 0x1059f402190>]"
      ]
     },
     "execution_count": 12,
     "metadata": {},
     "output_type": "execute_result"
    },
    {
     "data": {
      "image/png": "[encoded data removed]",
      "text/plain": [
       "<Figure size 432x288 with 1 Axes>"
      ]
     },
     "metadata": {
      "needs_background": "light"
     },
     "output_type": "display_data"
    }
   ],
   "source": [
    "plt.scatter(X,y)\n",
    "plt.plot(X, lr.predict(X), color='blue')\n",
    "plt.plot(X, yhat_two, color='red' )"
   ]
  },
  {
   "cell_type": "code",
   "execution_count": 13,
   "id": "92cf9531",
   "metadata": {},
   "outputs": [
    {
     "data": {
      "text/plain": [
       "108.89531939500344"
      ]
     },
     "execution_count": 13,
     "metadata": {},
     "output_type": "execute_result"
    }
   ],
   "source": [
    "#2nd epoch\n",
    "l_two = -2 * np.sum(y - m*X.ravel() - b_two)\n",
    "l_two #slope"
   ]
  },
  {
   "cell_type": "code",
   "execution_count": 14,
   "id": "eaf771fa",
   "metadata": {},
   "outputs": [
    {
     "data": {
      "text/plain": [
       "1.0889531939500345"
      ]
     },
     "execution_count": 14,
     "metadata": {},
     "output_type": "execute_result"
    }
   ],
   "source": [
    "ss_two = lrr*l_two\n",
    "ss_two"
   ]
  },
  {
   "cell_type": "code",
   "execution_count": 15,
   "id": "63c409ca",
   "metadata": {},
   "outputs": [
    {
     "data": {
      "text/plain": [
       "7.549855313612422"
      ]
     },
     "execution_count": 15,
     "metadata": {},
     "output_type": "execute_result"
    }
   ],
   "source": [
    "b_three = b_two - ss_two\n",
    "b_three"
   ]
  },
  {
   "cell_type": "code",
   "execution_count": 16,
   "id": "bcce6194",
   "metadata": {},
   "outputs": [
    {
     "data": {
      "text/plain": [
       "array([-2.1097026 ,  4.35506995,  5.33311847, 14.87283029,  8.8888624 ,\n",
       "        4.98231365, 14.3672328 , 11.18197113,  3.04660601,  6.50324785])"
      ]
     },
     "execution_count": 16,
     "metadata": {},
     "output_type": "execute_result"
    }
   ],
   "source": [
    "yhat_three = m*X.ravel()+b_three\n",
    "yhat_three"
   ]
  },
  {
   "cell_type": "code",
   "execution_count": 17,
   "id": "56e7a1f3",
   "metadata": {},
   "outputs": [
    {
     "data": {
      "text/plain": [
       "[<matplotlib.lines.Line2D at 0x1059f472e80>]"
      ]
     },
     "execution_count": 17,
     "metadata": {},
     "output_type": "execute_result"
    },
    {
     "data": {
      "image/png": "[encoded data removed]",
      "text/plain": [
       "<Figure size 432x288 with 1 Axes>"
      ]
     },
     "metadata": {
      "needs_background": "light"
     },
     "output_type": "display_data"
    }
   ],
   "source": [
    "plt.scatter(X,y)\n",
    "plt.plot(X, lr.predict(X), color='blue')\n",
    "plt.plot(X, yhat_two, color='red' )\n",
    "plt.plot(X, yhat_three, color='yellow' )"
   ]
  },
  {
   "cell_type": "code",
   "execution_count": 18,
   "id": "c7807266",
   "metadata": {},
   "outputs": [
    {
     "data": {
      "text/plain": [
       "87.11625551600272"
      ]
     },
     "execution_count": 18,
     "metadata": {},
     "output_type": "execute_result"
    }
   ],
   "source": [
    "#3rd epoch\n",
    "l_three = -2 * np.sum(y - m*X.ravel() - b_three)\n",
    "l_three #slope"
   ]
  },
  {
   "cell_type": "code",
   "execution_count": 19,
   "id": "de0f3d0a",
   "metadata": {},
   "outputs": [
    {
     "data": {
      "text/plain": [
       "0.8711625551600273"
      ]
     },
     "execution_count": 19,
     "metadata": {},
     "output_type": "execute_result"
    }
   ],
   "source": [
    "ss_three = lrr*l_three\n",
    "ss_three"
   ]
  },
  {
   "cell_type": "code",
   "execution_count": 20,
   "id": "333c3b32",
   "metadata": {},
   "outputs": [
    {
     "data": {
      "text/plain": [
       "6.678692758452395"
      ]
     },
     "execution_count": 20,
     "metadata": {},
     "output_type": "execute_result"
    }
   ],
   "source": [
    "b_four = b_three- ss_three\n",
    "b_four"
   ]
  },
  {
   "cell_type": "code",
   "execution_count": 21,
   "id": "2ee8f2ab",
   "metadata": {},
   "outputs": [
    {
     "data": {
      "text/plain": [
       "array([-2.98086515,  3.4839074 ,  4.46195591, 14.00166773,  8.01769984,\n",
       "        4.11115109, 13.49607025, 10.31080858,  2.17544345,  5.63208529])"
      ]
     },
     "execution_count": 21,
     "metadata": {},
     "output_type": "execute_result"
    }
   ],
   "source": [
    "yhat_four = m*X.ravel()+b_four\n",
    "yhat_four"
   ]
  },
  {
   "cell_type": "code",
   "execution_count": 22,
   "id": "7a73d743",
   "metadata": {},
   "outputs": [
    {
     "data": {
      "text/plain": [
       "[<matplotlib.lines.Line2D at 0x1059f4f1ca0>]"
      ]
     },
     "execution_count": 22,
     "metadata": {},
     "output_type": "execute_result"
    },
    {
     "data": {
      "image/png": "[encoded data removed]",
      "text/plain": [
       "<Figure size 432x288 with 1 Axes>"
      ]
     },
     "metadata": {
      "needs_background": "light"
     },
     "output_type": "display_data"
    }
   ],
   "source": [
    "plt.scatter(X,y)\n",
    "plt.plot(X, lr.predict(X), color='blue')\n",
    "plt.plot(X, yhat_two, color='red' )\n",
    "plt.plot(X, yhat_three, color='yellow' )\n",
    "plt.plot(X, yhat_four, color='black' )"
   ]
  },
  {
   "cell_type": "code",
   "execution_count": 23,
   "id": "9588af72",
   "metadata": {},
   "outputs": [
    {
     "data": {
      "text/plain": [
       "69.69300441280218"
      ]
     },
     "execution_count": 23,
     "metadata": {},
     "output_type": "execute_result"
    }
   ],
   "source": [
    "#4th epoch\n",
    "l_four = -2 * np.sum(y - m*X.ravel() - b_four)\n",
    "l_four #slope"
   ]
  },
  {
   "cell_type": "code",
   "execution_count": 24,
   "id": "61297055",
   "metadata": {},
   "outputs": [
    {
     "data": {
      "text/plain": [
       "0.6969300441280218"
      ]
     },
     "execution_count": 24,
     "metadata": {},
     "output_type": "execute_result"
    }
   ],
   "source": [
    "ss_four = lrr*l_four\n",
    "ss_four"
   ]
  },
  {
   "cell_type": "code",
   "execution_count": 25,
   "id": "36bc6ec3",
   "metadata": {},
   "outputs": [
    {
     "data": {
      "text/plain": [
       "6.8529252694844"
      ]
     },
     "execution_count": 25,
     "metadata": {},
     "output_type": "execute_result"
    }
   ],
   "source": [
    "b_fifth = b_three-ss_four\n",
    "b_fifth #new value of b"
   ]
  },
  {
   "cell_type": "code",
   "execution_count": 26,
   "id": "97845fb2",
   "metadata": {},
   "outputs": [
    {
     "data": {
      "text/plain": [
       "array([-2.80663264,  3.65813991,  4.63618843, 14.17590024,  8.19193236,\n",
       "        4.2853836 , 13.67030276, 10.48504109,  2.34967596,  5.8063178 ])"
      ]
     },
     "execution_count": 26,
     "metadata": {},
     "output_type": "execute_result"
    }
   ],
   "source": [
    "yhat_fifth= m*X.ravel()+b_fifth\n",
    "yhat_fifth"
   ]
  },
  {
   "cell_type": "code",
   "execution_count": 27,
   "id": "da7ebbd6",
   "metadata": {
    "scrolled": true
   },
   "outputs": [
    {
     "data": {
      "text/plain": [
       "[<matplotlib.lines.Line2D at 0x1059f5771c0>]"
      ]
     },
     "execution_count": 27,
     "metadata": {},
     "output_type": "execute_result"
    },
    {
     "data": {
      "image/png": "[encoded data removed]",
      "text/plain": [
       "<Figure size 432x288 with 1 Axes>"
      ]
     },
     "metadata": {
      "needs_background": "light"
     },
     "output_type": "display_data"
    }
   ],
   "source": [
    "plt.scatter(X,y)\n",
    "plt.plot(X, lr.predict(X), color='blue')\n",
    "plt.plot(X, yhat_two, color='red' )\n",
    "plt.plot(X, yhat_three, color='yellow' )\n",
    "plt.plot(X, yhat_four, color='brown' )\n",
    "plt.plot(X, yhat_fifth, color='green' )"
   ]
  },
  {
   "cell_type": "markdown",
   "id": "1ca97dc5",
   "metadata": {},
   "source": [
    "We are getting close to blue line and its just 4th epoch"
   ]
  },
  {
   "cell_type": "code",
   "execution_count": 69,
   "id": "c58e0e00",
   "metadata": {},
   "outputs": [
    {
     "name": "stdout",
     "output_type": "stream",
     "text": [
      "4.197 3.194139675683131\n"
     ]
    },
    {
     "data": {
      "text/plain": [
       "<matplotlib.collections.PathCollection at 0x1059f08c5e0>"
      ]
     },
     "execution_count": 69,
     "metadata": {},
     "output_type": "execute_result"
    },
    {
     "data": {
      "image/png": "[encoded data removed]",
      "text/plain": [
       "<Figure size 432x288 with 1 Axes>"
      ]
     },
     "metadata": {
      "needs_background": "light"
     },
     "output_type": "display_data"
    }
   ],
   "source": [
    "# Implementing whole concept through for loop (epoch concept)\n",
    "\n",
    "epoch=50\n",
    "m = 4.197 #(fixed value of slope)\n",
    "lrr = 0.01 #learning rate\n",
    "b = 10 #initial value of b (y-intercept)\n",
    "\n",
    "for i in range(epoch):\n",
    "    \n",
    "    l = -2 * np.sum(y - m*X.ravel() - b) #l is calculating the slope\n",
    "    \n",
    "    ss = lrr*l #step size\n",
    "    \n",
    "    b = b-ss #old b - step size\n",
    "    \n",
    "    yhat= m*X.ravel()+b\n",
    "    \n",
    "    \n",
    "    plt.plot(X, lr.predict(X), color='black')\n",
    "    plt.plot(X, yhat)\n",
    "    \n",
    "print(m,b)  \n",
    "plt.scatter(X,y)    \n",
    "    \n",
    "    "
   ]
  },
  {
   "cell_type": "markdown",
   "id": "08e32de1",
   "metadata": {},
   "source": [
    "# Calculating the Gradient Descent by finding both m and b"
   ]
  },
  {
   "cell_type": "code",
   "execution_count": 87,
   "id": "02ae114d",
   "metadata": {},
   "outputs": [],
   "source": [
    "class GradientDescentRegressor:\n",
    "    \n",
    "    def __init__(self, learning_rate, epochs):\n",
    "        self.lrr = learning_rate\n",
    "        self.epochs = epochs\n",
    "        self.m = 1\n",
    "        self.b = 1\n",
    "    \n",
    "    def fit(self, X, y):\n",
    "        \n",
    "        for i in range(self.epochs):\n",
    "            l_b = -2 * np.sum(y - self.m*X.ravel() - self.b) #sum of squared residual with respect to b\n",
    "            l_m = -2 * np.sum((y - self.m*X.ravel() - self.b)* X.ravel()) #sum of squared residual with respect to m\n",
    "            \n",
    "            ss_b = self.lrr * l_b\n",
    "            ss_m = self.lrr * l_m\n",
    "            \n",
    "            self.b = self.b - ss_b\n",
    "            self.m = self.m - ss_m\n",
    "            \n",
    "            print(f'At epochs {i} m = {self.m}, b={self.b}')\n",
    "            \n",
    "        return self.m,self.b\n",
    "            \n",
    "    def predict(self, X):\n",
    "        return self.m * X.ravel() + self.b\n",
    "            "
   ]
  },
  {
   "cell_type": "code",
   "execution_count": 88,
   "id": "ce0910c9",
   "metadata": {},
   "outputs": [],
   "source": [
    "gd = GradientDescentRegressor(0.01,50)"
   ]
  },
  {
   "cell_type": "code",
   "execution_count": 89,
   "id": "08caa927",
   "metadata": {
    "scrolled": true
   },
   "outputs": [
    {
     "name": "stdout",
     "output_type": "stream",
     "text": [
      "At epochs 0 m = 1.8703274202110431, b=1.3766966219810368\n",
      "At epochs 1 m = 2.4994643052983863, b=1.6949627957443214\n",
      "At epochs 2 m = 2.9551438319913395, b=1.9617987182462209\n",
      "At epochs 3 m = 3.285894975803488, b=2.1841204792767517\n",
      "At epochs 4 m = 3.526524351320076, b=2.368403780250186\n",
      "At epochs 5 m = 3.7020258725413364, b=2.520505411407293\n",
      "At epochs 6 m = 3.8303705994286945, b=2.64559639115483\n",
      "At epochs 7 m = 3.924498686238195, b=2.748162679172881\n",
      "At epochs 8 m = 3.9937425724564832, b=2.832044446827831\n",
      "At epochs 9 m = 4.044844565662237, b=2.9004951435098154\n",
      "At epochs 10 m = 4.08268501627128, b=2.9562485194837977\n",
      "At epochs 11 m = 4.110803874933758, b=3.0015863912791168\n",
      "At epochs 12 m = 4.1317746435235065, b=3.038402986911157\n",
      "At epochs 13 m = 4.147472800088691, b=3.068263687245128\n",
      "At epochs 14 m = 4.159268720283525, b=3.092457234094856\n",
      "At epochs 15 m = 4.168166527259679, b=3.112041244813759\n",
      "At epochs 16 m = 4.174904179299693, b=3.1278813215680588\n",
      "At epochs 17 m = 4.18002573873563, b=3.14068428327572\n",
      "At epochs 18 m = 4.183933651187742, b=3.151026155211034\n",
      "At epochs 19 m = 4.186926641030289, b=3.159375576378643\n",
      "At epochs 20 m = 4.189227241132748, b=3.1661132616526255\n",
      "At epochs 21 m = 4.191001840006335, b=3.1715481063404805\n",
      "At epochs 22 m = 4.192375317668023, b=3.175930459313845\n",
      "At epochs 23 m = 4.193441760323787, b=3.1794630258612484\n",
      "At epochs 24 m = 4.1942723274558045, b=3.182309798137086\n",
      "At epochs 25 m = 4.19492104608214, b=3.184603352363972\n",
      "At epochs 26 m = 4.195429092323013, b=3.186450799166529\n",
      "At epochs 27 m = 4.195827966033575, b=3.187938627021457\n",
      "At epochs 28 m = 4.196141853066874, b=3.1891366386949116\n",
      "At epochs 29 m = 4.196389389505529, b=3.190101146286881\n",
      "At epochs 30 m = 4.196584984217161, b=3.1908775615424885\n",
      "At epochs 31 m = 4.19673981409879, b=3.191502493795879\n",
      "At epochs 32 m = 4.196862575903217, b=3.1920054476611166\n",
      "At epochs 33 m = 4.1969600563755876, b=3.1924101957915143\n",
      "At epochs 34 m = 4.1970375662661485, b=3.192735888163817\n",
      "At epochs 35 m = 4.197099271968475, b=3.1929979479376223\n",
      "At epochs 36 m = 4.1971484498682505, b=3.193208794586045\n",
      "At epochs 37 m = 4.197187682115641, b=3.193378427341781\n",
      "At epochs 38 m = 4.197219007833072, b=3.1935148957574624\n",
      "At epochs 39 m = 4.197244040289996, b=3.1936246790916267\n",
      "At epochs 40 m = 4.197264057990933, b=3.193712992093991\n",
      "At epochs 41 m = 4.1972800756955175, b=3.1937840314033425\n",
      "At epochs 42 m = 4.197292899946896, b=3.1938411740456423\n",
      "At epochs 43 m = 4.19730317260126, b=3.1938871373113225\n",
      "At epochs 44 m = 4.197311405034308, b=3.193924107502826\n",
      "At epochs 45 m = 4.197318005081878, b=3.193953843597205\n",
      "At epochs 46 m = 4.197323298302062, b=3.193977760699608\n",
      "At epochs 47 m = 4.1973275447875915, b=3.193996997219155\n",
      "At epochs 48 m = 4.1973309524827975, b=3.19401246893627\n",
      "At epochs 49 m = 4.197333687748543, b=3.194024912515272\n"
     ]
    },
    {
     "data": {
      "text/plain": [
       "(4.197333687748543, 3.194024912515272)"
      ]
     },
     "execution_count": 89,
     "metadata": {},
     "output_type": "execute_result"
    }
   ],
   "source": [
    "gd.fit(X,y)"
   ]
  },
  {
   "cell_type": "code",
   "execution_count": 75,
   "id": "25a9d1fe",
   "metadata": {
    "scrolled": false
   },
   "outputs": [
    {
     "name": "stdout",
     "output_type": "stream",
     "text": [
      "[4.19734486] 3.1940760375488\n"
     ]
    }
   ],
   "source": [
    "print(lr.coef_, lr.intercept_)"
   ]
  },
  {
   "cell_type": "markdown",
   "id": "f944b778",
   "metadata": {},
   "source": [
    "sklearn linearRegression and my class base GradientDescentRegressor has the almost same m and b. Cheers..."
   ]
  },
  {
   "cell_type": "code",
   "execution_count": 90,
   "id": "c415271e",
   "metadata": {
    "scrolled": true
   },
   "outputs": [
    {
     "name": "stdout",
     "output_type": "stream",
     "text": [
      "[-6.46630099e+00 -1.01445596e-03  9.77111824e-01  1.05175821e+01\n",
      "  4.53313846e+00  6.26279109e-01  1.00119444e+01  6.82642951e+00\n",
      " -1.30958243e+00  2.14733423e+00]\n"
     ]
    }
   ],
   "source": [
    "pred=gd.predict(X)\n",
    "print(pred)"
   ]
  }
 ],
 "metadata": {
  "kernelspec": {
   "display_name": "Python 3 (ipykernel)",
   "language": "python",
   "name": "python3"
  },
  "language_info": {
   "codemirror_mode": {
    "name": "ipython",
    "version": 3
   },
   "file_extension": ".py",
   "mimetype": "text/x-python",
   "name": "python",
   "nbconvert_exporter": "python",
   "pygments_lexer": "ipython3",
   "version": "3.9.7"
  }
 },
 "nbformat": 4,
 "nbformat_minor": 5
}
