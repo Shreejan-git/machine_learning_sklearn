{
 "cells": [
  {
   "cell_type": "code",
   "execution_count": 1,
   "id": "5e1e8e8f",
   "metadata": {},
   "outputs": [],
   "source": [
    "from sklearn.datasets import make_regression\n",
    "import numpy as np\n",
    "import pandas as pd\n",
    "import matplotlib.pyplot as plt"
   ]
  },
  {
   "cell_type": "code",
   "execution_count": 2,
   "id": "c6c93cbd",
   "metadata": {},
   "outputs": [
    {
     "data": {
      "text/html": [
       "<div>\n",
       "<style scoped>\n",
       "    .dataframe tbody tr th:only-of-type {\n",
       "        vertical-align: middle;\n",
       "    }\n",
       "\n",
       "    .dataframe tbody tr th {\n",
       "        vertical-align: top;\n",
       "    }\n",
       "\n",
       "    .dataframe thead th {\n",
       "        text-align: right;\n",
       "    }\n",
       "</style>\n",
       "<table border=\"1\" class=\"dataframe\">\n",
       "  <thead>\n",
       "    <tr style=\"text-align: right;\">\n",
       "      <th></th>\n",
       "      <th>f1</th>\n",
       "      <th>target</th>\n",
       "    </tr>\n",
       "  </thead>\n",
       "  <tbody>\n",
       "    <tr>\n",
       "      <th>0</th>\n",
       "      <td>-2.301539</td>\n",
       "      <td>-17.633565</td>\n",
       "    </tr>\n",
       "    <tr>\n",
       "      <th>1</th>\n",
       "      <td>-0.761207</td>\n",
       "      <td>5.375113</td>\n",
       "    </tr>\n",
       "    <tr>\n",
       "      <th>2</th>\n",
       "      <td>-0.528172</td>\n",
       "      <td>-23.653796</td>\n",
       "    </tr>\n",
       "    <tr>\n",
       "      <th>3</th>\n",
       "      <td>1.744812</td>\n",
       "      <td>19.378131</td>\n",
       "    </tr>\n",
       "    <tr>\n",
       "      <th>4</th>\n",
       "      <td>0.319039</td>\n",
       "      <td>11.549990</td>\n",
       "    </tr>\n",
       "  </tbody>\n",
       "</table>\n",
       "</div>"
      ],
      "text/plain": [
       "         f1     target\n",
       "0 -2.301539 -17.633565\n",
       "1 -0.761207   5.375113\n",
       "2 -0.528172 -23.653796\n",
       "3  1.744812  19.378131\n",
       "4  0.319039  11.549990"
      ]
     },
     "execution_count": 2,
     "metadata": {},
     "output_type": "execute_result"
    }
   ],
   "source": [
    "X,y = make_regression(n_features=1, n_targets=1, n_samples=10, n_informative=1, noise=20, random_state=1)\n",
    "data=pd.DataFrame({'f1':X[:,0],'target':y})\n",
    "data.head()"
   ]
  },
  {
   "cell_type": "code",
   "execution_count": 3,
   "id": "c9b498fe",
   "metadata": {},
   "outputs": [
    {
     "data": {
      "text/plain": [
       "<matplotlib.collections.PathCollection at 0x2d8eb727130>"
      ]
     },
     "execution_count": 3,
     "metadata": {},
     "output_type": "execute_result"
    },
    {
     "data": {
      "image/png": "[encoded data removed]",
      "text/plain": [
       "<Figure size 432x288 with 1 Axes>"
      ]
     },
     "metadata": {
      "needs_background": "light"
     },
     "output_type": "display_data"
    }
   ],
   "source": [
    "plt.scatter(data['f1'], data['target'])"
   ]
  },
  {
   "cell_type": "code",
   "execution_count": 4,
   "id": "4a5935f7",
   "metadata": {},
   "outputs": [],
   "source": [
    "from sklearn.linear_model import LinearRegression"
   ]
  },
  {
   "cell_type": "code",
   "execution_count": 5,
   "id": "c5b56d09",
   "metadata": {},
   "outputs": [
    {
     "name": "stdout",
     "output_type": "stream",
     "text": [
      "[4.19734486] 3.1940760375488\n"
     ]
    }
   ],
   "source": [
    "lr = LinearRegression()\n",
    "lr.fit(data[['f1']], data['target'])\n",
    "print(lr.coef_, lr.intercept_)"
   ]
  },
  {
   "cell_type": "code",
   "execution_count": 6,
   "id": "e1db1e3a",
   "metadata": {
    "scrolled": true
   },
   "outputs": [
    {
     "data": {
      "text/plain": [
       "[<matplotlib.lines.Line2D at 0x2d8ebab9670>]"
      ]
     },
     "execution_count": 6,
     "metadata": {},
     "output_type": "execute_result"
    },
    {
     "data": {
      "image/png": "[encoded data removed]",
      "text/plain": [
       "<Figure size 432x288 with 1 Axes>"
      ]
     },
     "metadata": {
      "needs_background": "light"
     },
     "output_type": "display_data"
    }
   ],
   "source": [
    "plt.scatter(data['f1'], data['target'])\n",
    "plt.plot(X,lr.predict(X))"
   ]
  },
  {
   "cell_type": "markdown",
   "id": "110b2804",
   "metadata": {},
   "source": [
    "# We are just finding the optimize value of b assuming we already have a best value for m. i.e. 4.197. Our aim is to get the value of 3.19 for b starting with 10"
   ]
  },
  {
   "cell_type": "raw",
   "id": "d8bb7cbf",
   "metadata": {},
   "source": [
    "yhat = m*x+b #m=slope and b = y_intercept\n",
    "\n",
    "l = summation((yactual-yhat)^2) #sum of squared residual. This is the difference between actual_y and predicted_y\n",
    "\n",
    "l = summation((yactual-(m*x+b))^2) #subsituting the yhat value.\n",
    "\n",
    "l = summation((yactual=m*x-b)^2) #taking the derivatives of this step with respect to b. Because we want to see the change in L in change of b\n",
    "\n",
    "dl/db = summation(-2 *(yactual-m*x-b)) #This is the final result after we do derivatives.\n",
    "\n",
    "Now, we have a value of yactual, m, x and we start b with any random value. This is how we optimize the value in every epoch."
   ]
  },
  {
   "cell_type": "code",
   "execution_count": 7,
   "id": "38f0d5bb",
   "metadata": {},
   "outputs": [],
   "source": [
    "m = 4.197\n",
    "b = 10"
   ]
  },
  {
   "cell_type": "code",
   "execution_count": 8,
   "id": "4447c168",
   "metadata": {
    "scrolled": true
   },
   "outputs": [
    {
     "data": {
      "text/plain": [
       "1361.1914924375433"
      ]
     },
     "execution_count": 8,
     "metadata": {},
     "output_type": "execute_result"
    }
   ],
   "source": [
    "l = -2*np.sum((y - m*X - b)) #slope\n",
    "l"
   ]
  },
  {
   "cell_type": "code",
   "execution_count": 9,
   "id": "f6b9fe6c",
   "metadata": {},
   "outputs": [],
   "source": [
    "learning_rate = 0.01"
   ]
  },
  {
   "cell_type": "code",
   "execution_count": 10,
   "id": "a315c3cd",
   "metadata": {},
   "outputs": [
    {
     "data": {
      "text/plain": [
       "13.611914924375434"
      ]
     },
     "execution_count": 10,
     "metadata": {},
     "output_type": "execute_result"
    }
   ],
   "source": [
    " #The value of learning_rate will say how big our step in every iteration will be. 0.01 is a standard.\n",
    "step_size = learning_rate*l\n",
    "step_size"
   ]
  },
  {
   "cell_type": "code",
   "execution_count": 11,
   "id": "47c33964",
   "metadata": {},
   "outputs": [
    {
     "data": {
      "text/plain": [
       "-3.6119149243754336"
      ]
     },
     "execution_count": 11,
     "metadata": {},
     "output_type": "execute_result"
    }
   ],
   "source": [
    "new_b = b - (step_size)\n",
    "new_b"
   ]
  },
  {
   "cell_type": "code",
   "execution_count": 12,
   "id": "f2a626ad",
   "metadata": {},
   "outputs": [
    {
     "data": {
      "text/plain": [
       "array([-13.27147284,  -6.80670029,  -5.82865177,   3.71106005,\n",
       "        -2.27290784,  -6.17945659,   3.20546257,   0.0202009 ,\n",
       "        -8.11516423,  -4.65852239])"
      ]
     },
     "execution_count": 12,
     "metadata": {},
     "output_type": "execute_result"
    }
   ],
   "source": [
    "yhat_first=((m*X.ravel()) + new_b)\n",
    "yhat_first"
   ]
  },
  {
   "cell_type": "code",
   "execution_count": 13,
   "id": "f6da8b5a",
   "metadata": {},
   "outputs": [
    {
     "data": {
      "text/plain": [
       "[<matplotlib.lines.Line2D at 0x2d8ebb3c8e0>]"
      ]
     },
     "execution_count": 13,
     "metadata": {},
     "output_type": "execute_result"
    },
    {
     "data": {
      "image/png": "[encoded data removed]",
      "text/plain": [
       "<Figure size 432x288 with 1 Axes>"
      ]
     },
     "metadata": {
      "needs_background": "light"
     },
     "output_type": "display_data"
    }
   ],
   "source": [
    "plt.scatter(data['f1'], data['target'])\n",
    "plt.plot(X,lr.predict(X),color='red') #original best fit line for the data\n",
    "plt.plot(X,yhat_first,color='blue')"
   ]
  },
  {
   "cell_type": "code",
   "execution_count": 14,
   "id": "cc6b0712",
   "metadata": {},
   "outputs": [
    {
     "data": {
      "text/plain": [
       "-1361.1914924375437"
      ]
     },
     "execution_count": 14,
     "metadata": {},
     "output_type": "execute_result"
    }
   ],
   "source": [
    "l = -2 * (np.sum((y - m*X - new_b))) #slope\n",
    "l"
   ]
  },
  {
   "cell_type": "code",
   "execution_count": 15,
   "id": "f8464af9",
   "metadata": {},
   "outputs": [
    {
     "data": {
      "text/plain": [
       "-13.611914924375437"
      ]
     },
     "execution_count": 15,
     "metadata": {},
     "output_type": "execute_result"
    }
   ],
   "source": [
    "step_size = learning_rate*l\n",
    "step_size"
   ]
  },
  {
   "cell_type": "code",
   "execution_count": 16,
   "id": "caeac0b1",
   "metadata": {},
   "outputs": [
    {
     "data": {
      "text/plain": [
       "10.000000000000004"
      ]
     },
     "execution_count": 16,
     "metadata": {},
     "output_type": "execute_result"
    }
   ],
   "source": [
    "new_b_t = new_b - (step_size)\n",
    "new_b_t"
   ]
  },
  {
   "cell_type": "code",
   "execution_count": 17,
   "id": "b0e687d3",
   "metadata": {},
   "outputs": [
    {
     "data": {
      "text/plain": [
       "array([ 0.34044209,  6.80521464,  7.78326316, 17.32297497, 11.33900709,\n",
       "        7.43245833, 16.81737749, 13.63211582,  5.49675069,  8.95339253])"
      ]
     },
     "execution_count": 17,
     "metadata": {},
     "output_type": "execute_result"
    }
   ],
   "source": [
    "yhat_s=((m*X.ravel()) + new_b_t)\n",
    "yhat_s "
   ]
  },
  {
   "cell_type": "code",
   "execution_count": 18,
   "id": "20552a80",
   "metadata": {},
   "outputs": [
    {
     "data": {
      "text/plain": [
       "[<matplotlib.lines.Line2D at 0x2d8ebbb4670>]"
      ]
     },
     "execution_count": 18,
     "metadata": {},
     "output_type": "execute_result"
    },
    {
     "data": {
      "image/png": "[encoded data removed]",
      "text/plain": [
       "<Figure size 432x288 with 1 Axes>"
      ]
     },
     "metadata": {
      "needs_background": "light"
     },
     "output_type": "display_data"
    }
   ],
   "source": [
    "plt.scatter(data['f1'], data['target'])\n",
    "plt.plot(X,lr.predict(X),color='red') #original best fit line for the data\n",
    "plt.plot(X,yhat_first,color='blue')\n",
    "plt.plot(X,yhat_s,color='green')"
   ]
  },
  {
   "cell_type": "code",
   "execution_count": 19,
   "id": "72f3b683",
   "metadata": {},
   "outputs": [
    {
     "data": {
      "text/plain": [
       "1361.1914924375437"
      ]
     },
     "execution_count": 19,
     "metadata": {},
     "output_type": "execute_result"
    }
   ],
   "source": [
    "l = -2 * (np.sum((y - m*X - new_b_t))) #slope\n",
    "l"
   ]
  },
  {
   "cell_type": "code",
   "execution_count": 20,
   "id": "d43ab7e6",
   "metadata": {},
   "outputs": [
    {
     "data": {
      "text/plain": [
       "13.611914924375437"
      ]
     },
     "execution_count": 20,
     "metadata": {},
     "output_type": "execute_result"
    }
   ],
   "source": [
    "step_size = learning_rate*l\n",
    "step_size"
   ]
  },
  {
   "cell_type": "code",
   "execution_count": 21,
   "id": "c3a3c340",
   "metadata": {},
   "outputs": [
    {
     "data": {
      "text/plain": [
       "-17.22382984875087"
      ]
     },
     "execution_count": 21,
     "metadata": {},
     "output_type": "execute_result"
    }
   ],
   "source": [
    "new_b_u = new_b - (step_size)\n",
    "new_b_u"
   ]
  },
  {
   "cell_type": "code",
   "execution_count": 22,
   "id": "37b5c779",
   "metadata": {},
   "outputs": [
    {
     "data": {
      "text/plain": [
       "array([-26.88338776, -20.41861521, -19.44056669,  -9.90085487,\n",
       "       -15.88482276, -19.79137152, -10.40645236, -13.59171403,\n",
       "       -21.72707916, -18.27043731])"
      ]
     },
     "execution_count": 22,
     "metadata": {},
     "output_type": "execute_result"
    }
   ],
   "source": [
    "yhat_t=((m*X.ravel()) + new_b_u)\n",
    "yhat_t"
   ]
  },
  {
   "cell_type": "code",
   "execution_count": 23,
   "id": "efecc871",
   "metadata": {},
   "outputs": [
    {
     "data": {
      "text/plain": [
       "[<matplotlib.lines.Line2D at 0x2d8ebc334f0>]"
      ]
     },
     "execution_count": 23,
     "metadata": {},
     "output_type": "execute_result"
    },
    {
     "data": {
      "image/png": "[encoded data removed]",
      "text/plain": [
       "<Figure size 432x288 with 1 Axes>"
      ]
     },
     "metadata": {
      "needs_background": "light"
     },
     "output_type": "display_data"
    }
   ],
   "source": [
    "plt.scatter(data['f1'], data['target'])\n",
    "plt.plot(X,lr.predict(X),color='red') #original best fit line for the data\n",
    "plt.plot(X,yhat_first,color='blue')\n",
    "plt.plot(X,yhat_s,color='green')\n",
    "plt.plot(X,yhat_t,color='yellow')"
   ]
  },
  {
   "cell_type": "code",
   "execution_count": null,
   "id": "a47200f9",
   "metadata": {},
   "outputs": [],
   "source": []
  }
 ],
 "metadata": {
  "kernelspec": {
   "display_name": "Python 3 (ipykernel)",
   "language": "python",
   "name": "python3"
  },
  "language_info": {
   "codemirror_mode": {
    "name": "ipython",
    "version": 3
   },
   "file_extension": ".py",
   "mimetype": "text/x-python",
   "name": "python",
   "nbconvert_exporter": "python",
   "pygments_lexer": "ipython3",
   "version": "3.9.7"
  }
 },
 "nbformat": 4,
 "nbformat_minor": 5
}
