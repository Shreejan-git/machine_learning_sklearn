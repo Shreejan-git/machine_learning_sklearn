{
 "cells": [
  {
   "cell_type": "code",
   "execution_count": 1,
   "id": "45e19ca5",
   "metadata": {},
   "outputs": [],
   "source": [
    "from sklearn.datasets import make_regression\n",
    "import numpy as np\n",
    "import pandas as pd\n",
    "import matplotlib.pyplot as plt"
   ]
  },
  {
   "cell_type": "code",
   "execution_count": 2,
   "id": "70f981df",
   "metadata": {},
   "outputs": [
    {
     "data": {
      "text/html": [
       "<div>\n",
       "<style scoped>\n",
       "    .dataframe tbody tr th:only-of-type {\n",
       "        vertical-align: middle;\n",
       "    }\n",
       "\n",
       "    .dataframe tbody tr th {\n",
       "        vertical-align: top;\n",
       "    }\n",
       "\n",
       "    .dataframe thead th {\n",
       "        text-align: right;\n",
       "    }\n",
       "</style>\n",
       "<table border=\"1\" class=\"dataframe\">\n",
       "  <thead>\n",
       "    <tr style=\"text-align: right;\">\n",
       "      <th></th>\n",
       "      <th>f1</th>\n",
       "      <th>target</th>\n",
       "    </tr>\n",
       "  </thead>\n",
       "  <tbody>\n",
       "    <tr>\n",
       "      <th>0</th>\n",
       "      <td>-2.301539</td>\n",
       "      <td>-17.633565</td>\n",
       "    </tr>\n",
       "    <tr>\n",
       "      <th>1</th>\n",
       "      <td>-0.761207</td>\n",
       "      <td>5.375113</td>\n",
       "    </tr>\n",
       "    <tr>\n",
       "      <th>2</th>\n",
       "      <td>-0.528172</td>\n",
       "      <td>-23.653796</td>\n",
       "    </tr>\n",
       "    <tr>\n",
       "      <th>3</th>\n",
       "      <td>1.744812</td>\n",
       "      <td>19.378131</td>\n",
       "    </tr>\n",
       "    <tr>\n",
       "      <th>4</th>\n",
       "      <td>0.319039</td>\n",
       "      <td>11.549990</td>\n",
       "    </tr>\n",
       "  </tbody>\n",
       "</table>\n",
       "</div>"
      ],
      "text/plain": [
       "         f1     target\n",
       "0 -2.301539 -17.633565\n",
       "1 -0.761207   5.375113\n",
       "2 -0.528172 -23.653796\n",
       "3  1.744812  19.378131\n",
       "4  0.319039  11.549990"
      ]
     },
     "execution_count": 2,
     "metadata": {},
     "output_type": "execute_result"
    }
   ],
   "source": [
    "X,y = make_regression(n_features=1, n_targets=1, n_samples=10, n_informative=1, noise=20, random_state=1)\n",
    "data=pd.DataFrame({'f1':X[:,0],'target':y})\n",
    "data.head()"
   ]
  },
  {
   "cell_type": "code",
   "execution_count": 3,
   "id": "5ccaac7b",
   "metadata": {},
   "outputs": [
    {
     "data": {
      "text/plain": [
       "<matplotlib.collections.PathCollection at 0x1059efe7f70>"
      ]
     },
     "execution_count": 3,
     "metadata": {},
     "output_type": "execute_result"
    },
    {
     "data": {
      "image/png": "[encoded data removed]",
      "text/plain": [
       "<Figure size 432x288 with 1 Axes>"
      ]
     },
     "metadata": {
      "needs_background": "light"
     },
     "output_type": "display_data"
    }
   ],
   "source": [
    "plt.scatter(data['f1'], data['target'])"
   ]
  },
  {
   "cell_type": "code",
   "execution_count": 4,
   "id": "142accfb",
   "metadata": {},
   "outputs": [],
   "source": [
    "from sklearn.linear_model import LinearRegression"
   ]
  },
  {
   "cell_type": "code",
   "execution_count": 5,
   "id": "50e5d5e5",
   "metadata": {
    "scrolled": true
   },
   "outputs": [
    {
     "name": "stdout",
     "output_type": "stream",
     "text": [
      "[4.19734486] 3.1940760375488\n"
     ]
    }
   ],
   "source": [
    "lr = LinearRegression()\n",
    "lr.fit(data[['f1']], data['target'])\n",
    "print(lr.coef_, lr.intercept_)"
   ]
  },
  {
   "cell_type": "code",
   "execution_count": 6,
   "id": "4384a365",
   "metadata": {
    "scrolled": true
   },
   "outputs": [
    {
     "data": {
      "text/plain": [
       "[<matplotlib.lines.Line2D at 0x1059f36bfd0>]"
      ]
     },
     "execution_count": 6,
     "metadata": {},
     "output_type": "execute_result"
    },
    {
     "data": {
      "image/png": "[encoded data removed]",
      "text/plain": [
       "<Figure size 432x288 with 1 Axes>"
      ]
     },
     "metadata": {
      "needs_background": "light"
     },
     "output_type": "display_data"
    }
   ],
   "source": [
    "plt.scatter(data['f1'], data['target'])\n",
    "plt.plot(X,lr.predict(X))"
   ]
  },
  {
   "cell_type": "markdown",
   "id": "6d6d25fe",
   "metadata": {},
   "source": [
    "# We are just finding the optimize value of b assuming we already have a best value for m. i.e. 4.197. Our aim is to get the value of 3.19 for b starting with 10"
   ]
  },
  {
   "cell_type": "raw",
   "id": "998ca1b5",
   "metadata": {},
   "source": [
    "yhat = m*x+b #m=slope and b = y_intercept\n",
    "\n",
    "l = summation((yactual-yhat)^2) #sum of squared residual. This is the difference between actual_y and predicted_y\n",
    "\n",
    "l = summation((yactual-(m*x+b))^2) #subsituting the yhat value.\n",
    "\n",
    "l = summation((yactual=m*x-b)^2) #taking the derivatives of this step with respect to b. Because we want to see the change in L in change of b\n",
    "\n",
    "dl/db = summation(-2 *(yactual-m*x-b)) #This is the final result after we do derivatives.\n",
    "\n",
    "Now, we have a value of yactual, m, x and we start b with any random value. This is how we optimize the value in every epoch."
   ]
  },
  {
   "cell_type": "code",
   "execution_count": null,
   "id": "0ffa5e1d",
   "metadata": {},
   "outputs": [],
   "source": []
  },
  {
   "cell_type": "code",
   "execution_count": 7,
   "id": "18629bf0",
   "metadata": {},
   "outputs": [],
   "source": [
    "m = 4.197\n",
    "lrr = 0.01 #learning rate\n",
    "b_one = 10"
   ]
  },
  {
   "cell_type": "code",
   "execution_count": null,
   "id": "a9b38c2f",
   "metadata": {},
   "outputs": [],
   "source": []
  },
  {
   "cell_type": "code",
   "execution_count": 8,
   "id": "fe6fb69e",
   "metadata": {},
   "outputs": [
    {
     "data": {
      "text/plain": [
       "136.1191492437543"
      ]
     },
     "execution_count": 8,
     "metadata": {},
     "output_type": "execute_result"
    }
   ],
   "source": [
    "#1st epoch\n",
    "l_one = -2 * np.sum(y - m*X.ravel() - b_one)\n",
    "l_one #slope"
   ]
  },
  {
   "cell_type": "code",
   "execution_count": 9,
   "id": "f3312266",
   "metadata": {},
   "outputs": [
    {
     "data": {
      "text/plain": [
       "1.361191492437543"
      ]
     },
     "execution_count": 9,
     "metadata": {},
     "output_type": "execute_result"
    }
   ],
   "source": [
    "#ss = step size\n",
    "ss_one = lrr*l_one\n",
    "ss_one"
   ]
  },
  {
   "cell_type": "code",
   "execution_count": 10,
   "id": "ccc2cb99",
   "metadata": {},
   "outputs": [
    {
     "data": {
      "text/plain": [
       "8.638808507562457"
      ]
     },
     "execution_count": 10,
     "metadata": {},
     "output_type": "execute_result"
    }
   ],
   "source": [
    "b_two = b_one - ss_one\n",
    "b_two #new value of b"
   ]
  },
  {
   "cell_type": "code",
   "execution_count": 11,
   "id": "df0ce702",
   "metadata": {},
   "outputs": [
    {
     "data": {
      "text/plain": [
       "array([-1.0207494 ,  5.44402314,  6.42207166, 15.96178348,  9.97781559,\n",
       "        6.07126684, 15.456186  , 12.27092433,  4.1355592 ,  7.59220104])"
      ]
     },
     "execution_count": 11,
     "metadata": {},
     "output_type": "execute_result"
    }
   ],
   "source": [
    "yhat_two = m*X.ravel()+b_two\n",
    "yhat_two"
   ]
  },
  {
   "cell_type": "code",
   "execution_count": 12,
   "id": "fde2dafb",
   "metadata": {},
   "outputs": [
    {
     "data": {
      "text/plain": [
       "[<matplotlib.lines.Line2D at 0x1059f402190>]"
      ]
     },
     "execution_count": 12,
     "metadata": {},
     "output_type": "execute_result"
    },
    {
     "data": {
      "image/png": "[encoded data removed]",
      "text/plain": [
       "<Figure size 432x288 with 1 Axes>"
      ]
     },
     "metadata": {
      "needs_background": "light"
     },
     "output_type": "display_data"
    }
   ],
   "source": [
    "plt.scatter(X,y)\n",
    "plt.plot(X, lr.predict(X), color='blue')\n",
    "plt.plot(X, yhat_two, color='red' )"
   ]
  },
  {
   "cell_type": "code",
   "execution_count": 13,
   "id": "9fc74045",
   "metadata": {},
   "outputs": [
    {
     "data": {
      "text/plain": [
       "108.89531939500344"
      ]
     },
     "execution_count": 13,
     "metadata": {},
     "output_type": "execute_result"
    }
   ],
   "source": [
    "#2nd epoch\n",
    "l_two = -2 * np.sum(y - m*X.ravel() - b_two)\n",
    "l_two #slope"
   ]
  },
  {
   "cell_type": "code",
   "execution_count": 14,
   "id": "0cf6a166",
   "metadata": {},
   "outputs": [
    {
     "data": {
      "text/plain": [
       "1.0889531939500345"
      ]
     },
     "execution_count": 14,
     "metadata": {},
     "output_type": "execute_result"
    }
   ],
   "source": [
    "ss_two = lrr*l_two\n",
    "ss_two"
   ]
  },
  {
   "cell_type": "code",
   "execution_count": 15,
   "id": "02f0ac34",
   "metadata": {},
   "outputs": [
    {
     "data": {
      "text/plain": [
       "7.549855313612422"
      ]
     },
     "execution_count": 15,
     "metadata": {},
     "output_type": "execute_result"
    }
   ],
   "source": [
    "b_three = b_two - ss_two\n",
    "b_three"
   ]
  },
  {
   "cell_type": "code",
   "execution_count": 16,
   "id": "cbf16e27",
   "metadata": {},
   "outputs": [
    {
     "data": {
      "text/plain": [
       "array([-2.1097026 ,  4.35506995,  5.33311847, 14.87283029,  8.8888624 ,\n",
       "        4.98231365, 14.3672328 , 11.18197113,  3.04660601,  6.50324785])"
      ]
     },
     "execution_count": 16,
     "metadata": {},
     "output_type": "execute_result"
    }
   ],
   "source": [
    "yhat_three = m*X.ravel()+b_three\n",
    "yhat_three"
   ]
  },
  {
   "cell_type": "code",
   "execution_count": 17,
   "id": "9a88f924",
   "metadata": {},
   "outputs": [
    {
     "data": {
      "text/plain": [
       "[<matplotlib.lines.Line2D at 0x1059f472e80>]"
      ]
     },
     "execution_count": 17,
     "metadata": {},
     "output_type": "execute_result"
    },
    {
     "data": {
      "image/png": "[encoded data removed]",
      "text/plain": [
       "<Figure size 432x288 with 1 Axes>"
      ]
     },
     "metadata": {
      "needs_background": "light"
     },
     "output_type": "display_data"
    }
   ],
   "source": [
    "plt.scatter(X,y)\n",
    "plt.plot(X, lr.predict(X), color='blue')\n",
    "plt.plot(X, yhat_two, color='red' )\n",
    "plt.plot(X, yhat_three, color='yellow' )"
   ]
  },
  {
   "cell_type": "code",
   "execution_count": 18,
   "id": "83eccd5c",
   "metadata": {},
   "outputs": [
    {
     "data": {
      "text/plain": [
       "87.11625551600272"
      ]
     },
     "execution_count": 18,
     "metadata": {},
     "output_type": "execute_result"
    }
   ],
   "source": [
    "#3rd epoch\n",
    "l_three = -2 * np.sum(y - m*X.ravel() - b_three)\n",
    "l_three #slope"
   ]
  },
  {
   "cell_type": "code",
   "execution_count": 19,
   "id": "cb4557e0",
   "metadata": {},
   "outputs": [
    {
     "data": {
      "text/plain": [
       "0.8711625551600273"
      ]
     },
     "execution_count": 19,
     "metadata": {},
     "output_type": "execute_result"
    }
   ],
   "source": [
    "ss_three = lrr*l_three\n",
    "ss_three"
   ]
  },
  {
   "cell_type": "code",
   "execution_count": 20,
   "id": "c09ad8dc",
   "metadata": {},
   "outputs": [
    {
     "data": {
      "text/plain": [
       "6.678692758452395"
      ]
     },
     "execution_count": 20,
     "metadata": {},
     "output_type": "execute_result"
    }
   ],
   "source": [
    "b_four = b_three- ss_three\n",
    "b_four"
   ]
  },
  {
   "cell_type": "code",
   "execution_count": 21,
   "id": "ce4e19fe",
   "metadata": {},
   "outputs": [
    {
     "data": {
      "text/plain": [
       "array([-2.98086515,  3.4839074 ,  4.46195591, 14.00166773,  8.01769984,\n",
       "        4.11115109, 13.49607025, 10.31080858,  2.17544345,  5.63208529])"
      ]
     },
     "execution_count": 21,
     "metadata": {},
     "output_type": "execute_result"
    }
   ],
   "source": [
    "yhat_four = m*X.ravel()+b_four\n",
    "yhat_four"
   ]
  },
  {
   "cell_type": "code",
   "execution_count": 22,
   "id": "5238f6f0",
   "metadata": {},
   "outputs": [
    {
     "data": {
      "text/plain": [
       "[<matplotlib.lines.Line2D at 0x1059f4f1ca0>]"
      ]
     },
     "execution_count": 22,
     "metadata": {},
     "output_type": "execute_result"
    },
    {
     "data": {
      "image/png": "[encoded data removed]",
      "text/plain": [
       "<Figure size 432x288 with 1 Axes>"
      ]
     },
     "metadata": {
      "needs_background": "light"
     },
     "output_type": "display_data"
    }
   ],
   "source": [
    "plt.scatter(X,y)\n",
    "plt.plot(X, lr.predict(X), color='blue')\n",
    "plt.plot(X, yhat_two, color='red' )\n",
    "plt.plot(X, yhat_three, color='yellow' )\n",
    "plt.plot(X, yhat_four, color='black' )"
   ]
  },
  {
   "cell_type": "code",
   "execution_count": 23,
   "id": "2f56a71e",
   "metadata": {},
   "outputs": [
    {
     "data": {
      "text/plain": [
       "69.69300441280218"
      ]
     },
     "execution_count": 23,
     "metadata": {},
     "output_type": "execute_result"
    }
   ],
   "source": [
    "#4th epoch\n",
    "l_four = -2 * np.sum(y - m*X.ravel() - b_four)\n",
    "l_four #slope"
   ]
  },
  {
   "cell_type": "code",
   "execution_count": 24,
   "id": "9b1db34f",
   "metadata": {},
   "outputs": [
    {
     "data": {
      "text/plain": [
       "0.6969300441280218"
      ]
     },
     "execution_count": 24,
     "metadata": {},
     "output_type": "execute_result"
    }
   ],
   "source": [
    "ss_four = lrr*l_four\n",
    "ss_four"
   ]
  },
  {
   "cell_type": "code",
   "execution_count": 25,
   "id": "b82a60e4",
   "metadata": {},
   "outputs": [
    {
     "data": {
      "text/plain": [
       "6.8529252694844"
      ]
     },
     "execution_count": 25,
     "metadata": {},
     "output_type": "execute_result"
    }
   ],
   "source": [
    "b_fifth = b_three-ss_four\n",
    "b_fifth #new value of b"
   ]
  },
  {
   "cell_type": "code",
   "execution_count": 26,
   "id": "1033a5c2",
   "metadata": {},
   "outputs": [
    {
     "data": {
      "text/plain": [
       "array([-2.80663264,  3.65813991,  4.63618843, 14.17590024,  8.19193236,\n",
       "        4.2853836 , 13.67030276, 10.48504109,  2.34967596,  5.8063178 ])"
      ]
     },
     "execution_count": 26,
     "metadata": {},
     "output_type": "execute_result"
    }
   ],
   "source": [
    "yhat_fifth= m*X.ravel()+b_fifth\n",
    "yhat_fifth"
   ]
  },
  {
   "cell_type": "code",
   "execution_count": 27,
   "id": "35b41495",
   "metadata": {
    "scrolled": true
   },
   "outputs": [
    {
     "data": {
      "text/plain": [
       "[<matplotlib.lines.Line2D at 0x1059f5771c0>]"
      ]
     },
     "execution_count": 27,
     "metadata": {},
     "output_type": "execute_result"
    },
    {
     "data": {
      "image/png": "[encoded data removed]",
      "text/plain": [
       "<Figure size 432x288 with 1 Axes>"
      ]
     },
     "metadata": {
      "needs_background": "light"
     },
     "output_type": "display_data"
    }
   ],
   "source": [
    "plt.scatter(X,y)\n",
    "plt.plot(X, lr.predict(X), color='blue')\n",
    "plt.plot(X, yhat_two, color='red' )\n",
    "plt.plot(X, yhat_three, color='yellow' )\n",
    "plt.plot(X, yhat_four, color='brown' )\n",
    "plt.plot(X, yhat_fifth, color='green' )"
   ]
  },
  {
   "cell_type": "markdown",
   "id": "15b85b38",
   "metadata": {},
   "source": [
    "We are getting close to blue line and its just 4th epoch"
   ]
  },
  {
   "cell_type": "code",
   "execution_count": 41,
   "id": "0516c22a",
   "metadata": {},
   "outputs": [
    {
     "data": {
      "text/plain": [
       "<matplotlib.collections.PathCollection at 0x105a0ca9c40>"
      ]
     },
     "execution_count": 41,
     "metadata": {},
     "output_type": "execute_result"
    },
    {
     "data": {
      "image/png": "[encoded data removed]",
      "text/plain": [
       "<Figure size 432x288 with 1 Axes>"
      ]
     },
     "metadata": {
      "needs_background": "light"
     },
     "output_type": "display_data"
    }
   ],
   "source": [
    "# Implementing whole concept through for loop (epoch concept)\n",
    "\n",
    "epoch=15\n",
    "m = 4.197 #(fixed value of slope)\n",
    "lrr = 0.01 #learning rate\n",
    "b = 10 #initial value of b (y-intercept)\n",
    "\n",
    "for i in range(epoch):\n",
    "    \n",
    "    l = -2 * np.sum(y - m*X.ravel() - b) #l is calculating the slope\n",
    "    \n",
    "    ss = lrr*l #step size\n",
    "    \n",
    "    b = b-ss #old b - step size\n",
    "    \n",
    "    yhat= m*X.ravel()+b\n",
    "    \n",
    "    \n",
    "    plt.plot(X, lr.predict(X), color='black')\n",
    "    plt.plot(X, yhat)\n",
    "    \n",
    "    \n",
    "plt.scatter(X,y)    \n",
    "    \n",
    "    "
   ]
  },
  {
   "cell_type": "code",
   "execution_count": null,
   "id": "01a698f2",
   "metadata": {},
   "outputs": [],
   "source": []
  }
 ],
 "metadata": {
  "kernelspec": {
   "display_name": "Python 3 (ipykernel)",
   "language": "python",
   "name": "python3"
  },
  "language_info": {
   "codemirror_mode": {
    "name": "ipython",
    "version": 3
   },
   "file_extension": ".py",
   "mimetype": "text/x-python",
   "name": "python",
   "nbconvert_exporter": "python",
   "pygments_lexer": "ipython3",
   "version": "3.9.7"
  }
 },
 "nbformat": 4,
 "nbformat_minor": 5
}
