{
 "cells": [
  {
   "cell_type": "code",
   "execution_count": 1,
   "id": "f2fcfe48",
   "metadata": {},
   "outputs": [],
   "source": [
    "import pandas as pd\n",
    "import numpy as np"
   ]
  },
  {
   "cell_type": "code",
   "execution_count": 95,
   "id": "c58cf3c7",
   "metadata": {
    "scrolled": true
   },
   "outputs": [
    {
     "data": {
      "text/html": [
       "<div>\n",
       "<style scoped>\n",
       "    .dataframe tbody tr th:only-of-type {\n",
       "        vertical-align: middle;\n",
       "    }\n",
       "\n",
       "    .dataframe tbody tr th {\n",
       "        vertical-align: top;\n",
       "    }\n",
       "\n",
       "    .dataframe thead th {\n",
       "        text-align: right;\n",
       "    }\n",
       "</style>\n",
       "<table border=\"1\" class=\"dataframe\">\n",
       "  <thead>\n",
       "    <tr style=\"text-align: right;\">\n",
       "      <th></th>\n",
       "      <th>Type</th>\n",
       "      <th>Price</th>\n",
       "      <th>Buy</th>\n",
       "    </tr>\n",
       "  </thead>\n",
       "  <tbody>\n",
       "    <tr>\n",
       "      <th>0</th>\n",
       "      <td>SUV</td>\n",
       "      <td>H</td>\n",
       "      <td>No</td>\n",
       "    </tr>\n",
       "    <tr>\n",
       "      <th>1</th>\n",
       "      <td>HB</td>\n",
       "      <td>H</td>\n",
       "      <td>No</td>\n",
       "    </tr>\n",
       "    <tr>\n",
       "      <th>2</th>\n",
       "      <td>HB</td>\n",
       "      <td>H</td>\n",
       "      <td>Yes</td>\n",
       "    </tr>\n",
       "    <tr>\n",
       "      <th>3</th>\n",
       "      <td>HB</td>\n",
       "      <td>L</td>\n",
       "      <td>No</td>\n",
       "    </tr>\n",
       "    <tr>\n",
       "      <th>4</th>\n",
       "      <td>SEDAN</td>\n",
       "      <td>H</td>\n",
       "      <td>Yes</td>\n",
       "    </tr>\n",
       "    <tr>\n",
       "      <th>5</th>\n",
       "      <td>SEDAN</td>\n",
       "      <td>L</td>\n",
       "      <td>Yes</td>\n",
       "    </tr>\n",
       "    <tr>\n",
       "      <th>6</th>\n",
       "      <td>SUV</td>\n",
       "      <td>L</td>\n",
       "      <td>No</td>\n",
       "    </tr>\n",
       "    <tr>\n",
       "      <th>7</th>\n",
       "      <td>SEDAN</td>\n",
       "      <td>H</td>\n",
       "      <td>Yes</td>\n",
       "    </tr>\n",
       "    <tr>\n",
       "      <th>8</th>\n",
       "      <td>HB</td>\n",
       "      <td>L</td>\n",
       "      <td>Yes</td>\n",
       "    </tr>\n",
       "    <tr>\n",
       "      <th>9</th>\n",
       "      <td>SUV</td>\n",
       "      <td>H</td>\n",
       "      <td>Yes</td>\n",
       "    </tr>\n",
       "  </tbody>\n",
       "</table>\n",
       "</div>"
      ],
      "text/plain": [
       "    Type Price  Buy\n",
       "0    SUV     H   No\n",
       "1     HB     H   No\n",
       "2     HB     H  Yes\n",
       "3     HB     L   No\n",
       "4  SEDAN     H  Yes\n",
       "5  SEDAN     L  Yes\n",
       "6    SUV     L   No\n",
       "7  SEDAN     H  Yes\n",
       "8     HB     L  Yes\n",
       "9    SUV     H  Yes"
      ]
     },
     "execution_count": 95,
     "metadata": {},
     "output_type": "execute_result"
    }
   ],
   "source": [
    "data = pd.read_csv('C:/Users/shree/Downloads/samplecar.csv')\n",
    "data.head(10)"
   ]
  },
  {
   "cell_type": "code",
   "execution_count": 157,
   "id": "33777df9",
   "metadata": {},
   "outputs": [
    {
     "data": {
      "text/plain": [
       "Index(['Yes', 'No'], dtype='object')"
      ]
     },
     "execution_count": 157,
     "metadata": {},
     "output_type": "execute_result"
    }
   ],
   "source": [
    "X = data.iloc[:,:-1]\n",
    "y = data.iloc[:,-1]\n",
    "y.value_counts().index"
   ]
  },
  {
   "cell_type": "code",
   "execution_count": 158,
   "id": "8d9bdd28",
   "metadata": {},
   "outputs": [
    {
     "data": {
      "text/html": [
       "<div>\n",
       "<style scoped>\n",
       "    .dataframe tbody tr th:only-of-type {\n",
       "        vertical-align: middle;\n",
       "    }\n",
       "\n",
       "    .dataframe tbody tr th {\n",
       "        vertical-align: top;\n",
       "    }\n",
       "\n",
       "    .dataframe thead th {\n",
       "        text-align: right;\n",
       "    }\n",
       "</style>\n",
       "<table border=\"1\" class=\"dataframe\">\n",
       "  <thead>\n",
       "    <tr style=\"text-align: right;\">\n",
       "      <th></th>\n",
       "      <th>Type</th>\n",
       "      <th>Price</th>\n",
       "    </tr>\n",
       "  </thead>\n",
       "  <tbody>\n",
       "    <tr>\n",
       "      <th>0</th>\n",
       "      <td>SUV</td>\n",
       "      <td>H</td>\n",
       "    </tr>\n",
       "    <tr>\n",
       "      <th>1</th>\n",
       "      <td>HB</td>\n",
       "      <td>H</td>\n",
       "    </tr>\n",
       "    <tr>\n",
       "      <th>2</th>\n",
       "      <td>HB</td>\n",
       "      <td>H</td>\n",
       "    </tr>\n",
       "    <tr>\n",
       "      <th>3</th>\n",
       "      <td>HB</td>\n",
       "      <td>L</td>\n",
       "    </tr>\n",
       "    <tr>\n",
       "      <th>4</th>\n",
       "      <td>SEDAN</td>\n",
       "      <td>H</td>\n",
       "    </tr>\n",
       "    <tr>\n",
       "      <th>5</th>\n",
       "      <td>SEDAN</td>\n",
       "      <td>L</td>\n",
       "    </tr>\n",
       "    <tr>\n",
       "      <th>6</th>\n",
       "      <td>SUV</td>\n",
       "      <td>L</td>\n",
       "    </tr>\n",
       "    <tr>\n",
       "      <th>7</th>\n",
       "      <td>SEDAN</td>\n",
       "      <td>H</td>\n",
       "    </tr>\n",
       "    <tr>\n",
       "      <th>8</th>\n",
       "      <td>HB</td>\n",
       "      <td>L</td>\n",
       "    </tr>\n",
       "    <tr>\n",
       "      <th>9</th>\n",
       "      <td>SUV</td>\n",
       "      <td>H</td>\n",
       "    </tr>\n",
       "  </tbody>\n",
       "</table>\n",
       "</div>"
      ],
      "text/plain": [
       "    Type Price\n",
       "0    SUV     H\n",
       "1     HB     H\n",
       "2     HB     H\n",
       "3     HB     L\n",
       "4  SEDAN     H\n",
       "5  SEDAN     L\n",
       "6    SUV     L\n",
       "7  SEDAN     H\n",
       "8     HB     L\n",
       "9    SUV     H"
      ]
     },
     "execution_count": 158,
     "metadata": {},
     "output_type": "execute_result"
    }
   ],
   "source": [
    "X"
   ]
  },
  {
   "cell_type": "code",
   "execution_count": 3,
   "id": "31f5bc93",
   "metadata": {},
   "outputs": [
    {
     "data": {
      "text/plain": [
       "(10, 3)"
      ]
     },
     "execution_count": 3,
     "metadata": {},
     "output_type": "execute_result"
    }
   ],
   "source": [
    "data.shape"
   ]
  },
  {
   "cell_type": "markdown",
   "id": "d2f944f0",
   "metadata": {},
   "source": [
    "This part contains the implementation of entropy and information gain from completely manual approach. I did the manual approach to explain the flow to my students. I have implemented using the function below."
   ]
  },
  {
   "cell_type": "code",
   "execution_count": 4,
   "id": "6202889f",
   "metadata": {},
   "outputs": [
    {
     "name": "stdout",
     "output_type": "stream",
     "text": [
      "6 4\n",
      "10\n"
     ]
    }
   ],
   "source": [
    "y = data[data['Buy']=='Yes'].shape[0]\n",
    "n = data[data['Buy']=='No'].shape[0]\n",
    "total_sample=data.shape[0]\n",
    "print(y,n)\n",
    "print(total_sample)"
   ]
  },
  {
   "cell_type": "code",
   "execution_count": 5,
   "id": "6f0ec1d6",
   "metadata": {},
   "outputs": [
    {
     "data": {
      "text/plain": [
       "0.6"
      ]
     },
     "execution_count": 5,
     "metadata": {},
     "output_type": "execute_result"
    }
   ],
   "source": [
    "p_y = y/total_sample\n",
    "p_y"
   ]
  },
  {
   "cell_type": "code",
   "execution_count": 6,
   "id": "87bff873",
   "metadata": {},
   "outputs": [
    {
     "data": {
      "text/plain": [
       "0.4"
      ]
     },
     "execution_count": 6,
     "metadata": {},
     "output_type": "execute_result"
    }
   ],
   "source": [
    "p_n = n/total_sample\n",
    "p_n"
   ]
  },
  {
   "cell_type": "code",
   "execution_count": 7,
   "id": "1694c4f9",
   "metadata": {},
   "outputs": [],
   "source": [
    "p_list=[p_y,p_n]"
   ]
  },
  {
   "cell_type": "code",
   "execution_count": 8,
   "id": "511a2ca3",
   "metadata": {},
   "outputs": [],
   "source": [
    "def prob(i,n):\n",
    "    return i/n"
   ]
  },
  {
   "cell_type": "code",
   "execution_count": 9,
   "id": "93fc769a",
   "metadata": {},
   "outputs": [],
   "source": [
    "def entropy(p_l):\n",
    "    entropy_value = 0\n",
    "    \n",
    "    for i in p_l:\n",
    "        if i == 0:\n",
    "            continue\n",
    "            \n",
    "        entropy_value += -1*(i*np.log2(i))\n",
    "        \n",
    "    return entropy_value"
   ]
  },
  {
   "cell_type": "code",
   "execution_count": 10,
   "id": "a4d4d691",
   "metadata": {},
   "outputs": [
    {
     "name": "stdout",
     "output_type": "stream",
     "text": [
      "0.9709505944546686\n"
     ]
    }
   ],
   "source": [
    "parent_entropy = entropy(p_list)\n",
    "print(parent_entropy)"
   ]
  },
  {
   "cell_type": "markdown",
   "id": "2e2f1f84",
   "metadata": {},
   "source": [
    "# Entropy, weighted_entropy and information gain for Type feature"
   ]
  },
  {
   "cell_type": "code",
   "execution_count": 11,
   "id": "b9b60135",
   "metadata": {
    "scrolled": false
   },
   "outputs": [
    {
     "data": {
      "text/plain": [
       "HB       4\n",
       "SUV      3\n",
       "SEDAN    3\n",
       "Name: Type, dtype: int64"
      ]
     },
     "execution_count": 11,
     "metadata": {},
     "output_type": "execute_result"
    }
   ],
   "source": [
    "data.Type.value_counts()"
   ]
  },
  {
   "cell_type": "code",
   "execution_count": 12,
   "id": "6c217c84",
   "metadata": {},
   "outputs": [
    {
     "data": {
      "text/plain": [
       "3"
      ]
     },
     "execution_count": 12,
     "metadata": {},
     "output_type": "execute_result"
    }
   ],
   "source": [
    "data.Type.value_counts()[1]"
   ]
  },
  {
   "cell_type": "code",
   "execution_count": 13,
   "id": "ba8736a3",
   "metadata": {
    "scrolled": true
   },
   "outputs": [
    {
     "data": {
      "text/plain": [
       "10"
      ]
     },
     "execution_count": 13,
     "metadata": {},
     "output_type": "execute_result"
    }
   ],
   "source": [
    "len(data)"
   ]
  },
  {
   "cell_type": "code",
   "execution_count": 14,
   "id": "df028c0e",
   "metadata": {},
   "outputs": [
    {
     "name": "stdout",
     "output_type": "stream",
     "text": [
      "2 2\n",
      "entropy of HB: 1.0\n"
     ]
    }
   ],
   "source": [
    "#for HB\n",
    "hb_no = data[(data['Type']=='HB')&(data['Buy']=='No')].shape[0]\n",
    "hb_yes = data[(data['Type']=='HB') & (data['Buy']=='Yes')].shape[0]\n",
    "print(hb_no, hb_yes)\n",
    "\n",
    "#probability and entropy\n",
    "p_hb_y = hb_yes/data.Type.value_counts()[0]\n",
    "p_hb_n = hb_no/data.Type.value_counts()[0]\n",
    "hb_entropy = entropy([p_hb_y,p_hb_n])\n",
    "print('entropy of HB:',hb_entropy)"
   ]
  },
  {
   "cell_type": "code",
   "execution_count": 15,
   "id": "1f8c01e0",
   "metadata": {
    "scrolled": true
   },
   "outputs": [
    {
     "name": "stdout",
     "output_type": "stream",
     "text": [
      "2 1\n",
      "entropy of SUV: 0.9182958340544896\n"
     ]
    }
   ],
   "source": [
    "#for SVU\n",
    "\n",
    "suv_no=data[(data['Type']=='SUV') & (data['Buy']=='No')].shape[0]\n",
    "suv_yes = data[(data['Type']=='SUV')&(data['Buy']==\"Yes\")].shape[0]\n",
    "print(suv_no, suv_yes)\n",
    "\n",
    "#probability and entropy\n",
    "p_suv_y = suv_yes/data.Type.value_counts()[1]\n",
    "p_suv_n = suv_no/data.Type.value_counts()[1]\n",
    "suv_entropy = entropy([p_suv_y,p_suv_n])\n",
    "print('entropy of SUV:',suv_entropy)"
   ]
  },
  {
   "cell_type": "code",
   "execution_count": 16,
   "id": "b93d8134",
   "metadata": {},
   "outputs": [
    {
     "name": "stdout",
     "output_type": "stream",
     "text": [
      "0 3\n",
      "entropy of SEDAN: 0.0\n"
     ]
    }
   ],
   "source": [
    "#for sedan\n",
    "sedan_no = data[(data['Type']=='SEDAN')&(data['Buy']=='N0')].shape[0]\n",
    "sedan_yes = data[(data['Type']=='SEDAN')& (data['Buy']=='Yes')].shape[0]\n",
    "print(sedan_no, sedan_yes)\n",
    "\n",
    "#probability and entropy\n",
    "p_s_y = sedan_yes/data.Type.value_counts()[2]\n",
    "p_s_n = sedan_no/data.Type.value_counts()[2]\n",
    "s_entropy = entropy([p_s_y,p_s_n])\n",
    "print('entropy of SEDAN:',s_entropy)"
   ]
  },
  {
   "cell_type": "markdown",
   "id": "3b3f9092",
   "metadata": {},
   "source": [
    "Weighted entropy of Type feature."
   ]
  },
  {
   "cell_type": "code",
   "execution_count": 17,
   "id": "ab37b071",
   "metadata": {},
   "outputs": [
    {
     "data": {
      "text/plain": [
       "0.6754887502163469"
      ]
     },
     "execution_count": 17,
     "metadata": {},
     "output_type": "execute_result"
    }
   ],
   "source": [
    "#weighted entropy of Type feature\n",
    "w_hb=(data.Type.value_counts()[0]/data.shape[0])*hb_entropy\n",
    "w_suv=(data.Type.value_counts()[1]/data.shape[0])*suv_entropy\n",
    "w_sedan=(data.Type.value_counts()[2]/data.shape[0])*s_entropy\n",
    "w_entropy_type = w_hb + w_suv + w_sedan\n",
    "w_entropy_type"
   ]
  },
  {
   "cell_type": "markdown",
   "id": "65c896c4",
   "metadata": {},
   "source": [
    "Information Gain of Type feature."
   ]
  },
  {
   "cell_type": "code",
   "execution_count": 18,
   "id": "f0630135",
   "metadata": {},
   "outputs": [
    {
     "data": {
      "text/plain": [
       "0.29546184423832167"
      ]
     },
     "execution_count": 18,
     "metadata": {},
     "output_type": "execute_result"
    }
   ],
   "source": [
    "#information gain\n",
    "information_gain_type = parent_entropy - w_entropy_type\n",
    "information_gain_type"
   ]
  },
  {
   "cell_type": "markdown",
   "id": "f36c51bd",
   "metadata": {},
   "source": [
    "# Below, I have tried to implement everything by using two functions."
   ]
  },
  {
   "cell_type": "markdown",
   "id": "180dc98c",
   "metadata": {},
   "source": [
    "Yes, I know its not the optimized code. I will try to make it optimize in near future."
   ]
  },
  {
   "cell_type": "code",
   "execution_count": 141,
   "id": "67f6a91c",
   "metadata": {},
   "outputs": [],
   "source": [
    "def entropy(p_l):\n",
    "    entropy_value = 0\n",
    "    \n",
    "    for i in p_l:\n",
    "        if i == 0:\n",
    "            continue\n",
    "            \n",
    "        entropy_value += -1*(i*np.log2(i))\n",
    "        \n",
    "    return(entropy_value)"
   ]
  },
  {
   "cell_type": "code",
   "execution_count": 199,
   "id": "d5ba60c5",
   "metadata": {},
   "outputs": [
    {
     "name": "stdout",
     "output_type": "stream",
     "text": [
      "Calculating for feature: Type\n",
      "\n",
      "Total number of HB in Type: 4\n",
      "Total number of Yes in HB: 2\n",
      "Total number of No in HB: 2\n",
      "The entropy of HB = 1.0\n",
      "\n",
      "Total number of SUV in Type: 3\n",
      "Total number of Yes in SUV: 1\n",
      "Total number of No in SUV: 2\n",
      "The entropy of SUV = 0.9149263727797274\n",
      "\n",
      "Total number of SEDAN in Type: 3\n",
      "Total number of Yes in SEDAN: 3\n",
      "Total number of No in SEDAN: 0\n",
      "The entropy of SEDAN = 0.0\n",
      "\n",
      "The weighted entropy of Type =  0.6744779118339183\n",
      "The information gain of Type= 0.2964726826207503\n",
      "***************\n",
      "Calculating for feature: Price\n",
      "\n",
      "Total number of H in Price: 6\n",
      "Total number of Yes in H: 4\n",
      "Total number of No in H: 2\n",
      "The entropy of H = 0.9149263727797274\n",
      "\n",
      "Total number of L in Price: 4\n",
      "Total number of Yes in L: 2\n",
      "Total number of No in L: 2\n",
      "The entropy of L = 1.0\n",
      "\n",
      "The weighted entropy of Price =  0.9489558236678365\n",
      "The information gain of Price= 0.021994770786832096\n",
      "***************\n"
     ]
    }
   ],
   "source": [
    "def weighted_entropy_features(X,y):\n",
    "    g = [(len(y[y==i])/len(y)) for i in y.value_counts().index] \n",
    "    #calculating the probability of target column to calculate parent entropy.\n",
    "\n",
    "    for h in X.columns:\n",
    "        print(f'Calculating for feature: {h}')\n",
    "        print()\n",
    "        weighted_entropy=0\n",
    "        for i in X[h].value_counts().index:\n",
    "            b = len(X[X[h]==i])\n",
    "            print(f'Total number of {i} in {h}:',b)\n",
    "            l = []\n",
    "            for j in y.value_counts().index:              \n",
    "                a=X[(X[h]==i)&(y==j)].shape[0]\n",
    "                print(f'Total number of {j} in {i}:',a)\n",
    "                l.append(round(a/b,2)) #calculating the probability and taking the .2f value    \n",
    "                \n",
    "            e = entropy(l) #calculating the entropy\n",
    "            print(f'The entropy of {i} =',e)\n",
    "            print()\n",
    "            \n",
    "            weighted_entropy += (b/len(X))* e\n",
    "        print(f'The weighted entropy of {h} = ',weighted_entropy)\n",
    "        \n",
    "        p_e = entropy(g) #calculating the parent entropy to calculate the information gain.\n",
    "        \n",
    "        information_gain= p_e-weighted_entropy\n",
    "        print(f'The information gain of {h}= {information_gain}')\n",
    "        print('***************') \n",
    "weighted_entropy_features(X,y)"
   ]
  }
 ],
 "metadata": {
  "kernelspec": {
   "display_name": "Python 3 (ipykernel)",
   "language": "python",
   "name": "python3"
  },
  "language_info": {
   "codemirror_mode": {
    "name": "ipython",
    "version": 3
   },
   "file_extension": ".py",
   "mimetype": "text/x-python",
   "name": "python",
   "nbconvert_exporter": "python",
   "pygments_lexer": "ipython3",
   "version": "3.9.7"
  }
 },
 "nbformat": 4,
 "nbformat_minor": 5
}
