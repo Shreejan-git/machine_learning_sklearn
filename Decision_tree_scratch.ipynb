{
 "cells": [
  {
   "cell_type": "code",
   "execution_count": 1,
   "id": "8dd151a8",
   "metadata": {},
   "outputs": [],
   "source": [
    "import pandas as pd\n",
    "import numpy as np"
   ]
  },
  {
   "cell_type": "code",
   "execution_count": 4,
   "id": "4e0d499e",
   "metadata": {},
   "outputs": [
    {
     "data": {
      "text/html": [
       "<div>\n",
       "<style scoped>\n",
       "    .dataframe tbody tr th:only-of-type {\n",
       "        vertical-align: middle;\n",
       "    }\n",
       "\n",
       "    .dataframe tbody tr th {\n",
       "        vertical-align: top;\n",
       "    }\n",
       "\n",
       "    .dataframe thead th {\n",
       "        text-align: right;\n",
       "    }\n",
       "</style>\n",
       "<table border=\"1\" class=\"dataframe\">\n",
       "  <thead>\n",
       "    <tr style=\"text-align: right;\">\n",
       "      <th></th>\n",
       "      <th>Type</th>\n",
       "      <th>Price</th>\n",
       "      <th>Buy</th>\n",
       "    </tr>\n",
       "  </thead>\n",
       "  <tbody>\n",
       "    <tr>\n",
       "      <th>0</th>\n",
       "      <td>SUV</td>\n",
       "      <td>H</td>\n",
       "      <td>No</td>\n",
       "    </tr>\n",
       "    <tr>\n",
       "      <th>1</th>\n",
       "      <td>HB</td>\n",
       "      <td>H</td>\n",
       "      <td>No</td>\n",
       "    </tr>\n",
       "    <tr>\n",
       "      <th>2</th>\n",
       "      <td>HB</td>\n",
       "      <td>H</td>\n",
       "      <td>Yes</td>\n",
       "    </tr>\n",
       "    <tr>\n",
       "      <th>3</th>\n",
       "      <td>HB</td>\n",
       "      <td>L</td>\n",
       "      <td>No</td>\n",
       "    </tr>\n",
       "    <tr>\n",
       "      <th>4</th>\n",
       "      <td>SEDAN</td>\n",
       "      <td>H</td>\n",
       "      <td>Yes</td>\n",
       "    </tr>\n",
       "  </tbody>\n",
       "</table>\n",
       "</div>"
      ],
      "text/plain": [
       "    Type Price  Buy\n",
       "0    SUV     H   No\n",
       "1     HB     H   No\n",
       "2     HB     H  Yes\n",
       "3     HB     L   No\n",
       "4  SEDAN     H  Yes"
      ]
     },
     "execution_count": 4,
     "metadata": {},
     "output_type": "execute_result"
    }
   ],
   "source": [
    "data = pd.read_csv('C:/Users/shree/Downloads/samplecar.csv')\n",
    "data.head()"
   ]
  },
  {
   "cell_type": "code",
   "execution_count": 5,
   "id": "474e047f",
   "metadata": {},
   "outputs": [
    {
     "data": {
      "text/plain": [
       "(10, 3)"
      ]
     },
     "execution_count": 5,
     "metadata": {},
     "output_type": "execute_result"
    }
   ],
   "source": [
    "data.shape"
   ]
  },
  {
   "cell_type": "code",
   "execution_count": 199,
   "id": "ac2e93bd",
   "metadata": {
    "scrolled": true
   },
   "outputs": [
    {
     "name": "stdout",
     "output_type": "stream",
     "text": [
      "6\n"
     ]
    }
   ],
   "source": [
    "class DecisionTreeClassifier_:\n",
    "    ''' This function implements decision tree using ID3 algorithm's entropy and information gain approach. '''\n",
    "    no_of_yes = y\n",
    "    print(no_of_yes)"
   ]
  },
  {
   "cell_type": "code",
   "execution_count": null,
   "id": "10c288ef",
   "metadata": {},
   "outputs": [],
   "source": []
  },
  {
   "cell_type": "code",
   "execution_count": 45,
   "id": "a4f511c6",
   "metadata": {},
   "outputs": [
    {
     "name": "stdout",
     "output_type": "stream",
     "text": [
      "6 4\n",
      "10\n"
     ]
    }
   ],
   "source": [
    "y = data[data['Buy']=='Yes'].shape[0]\n",
    "n = data[data['Buy']=='No'].shape[0]\n",
    "total_sample=data.shape[0]\n",
    "print(y,n)\n",
    "print(total_sample)"
   ]
  },
  {
   "cell_type": "code",
   "execution_count": 46,
   "id": "925360d8",
   "metadata": {},
   "outputs": [
    {
     "data": {
      "text/plain": [
       "0.6"
      ]
     },
     "execution_count": 46,
     "metadata": {},
     "output_type": "execute_result"
    }
   ],
   "source": [
    "p_y = y/total_sample\n",
    "p_y"
   ]
  },
  {
   "cell_type": "code",
   "execution_count": 47,
   "id": "5322c99d",
   "metadata": {},
   "outputs": [
    {
     "data": {
      "text/plain": [
       "0.4"
      ]
     },
     "execution_count": 47,
     "metadata": {},
     "output_type": "execute_result"
    }
   ],
   "source": [
    "p_n = n/total_sample\n",
    "p_n"
   ]
  },
  {
   "cell_type": "code",
   "execution_count": 55,
   "id": "616006f1",
   "metadata": {},
   "outputs": [],
   "source": [
    "p_list=[p_y,p_n]"
   ]
  },
  {
   "cell_type": "code",
   "execution_count": 164,
   "id": "a9c02897",
   "metadata": {},
   "outputs": [],
   "source": [
    "def prob(i,n):\n",
    "    return i/n"
   ]
  },
  {
   "cell_type": "code",
   "execution_count": 183,
   "id": "4dbb90c3",
   "metadata": {},
   "outputs": [],
   "source": [
    "def entropy(p_l):\n",
    "    entropy_value = 0\n",
    "    \n",
    "    for i in p_l:\n",
    "        if i == 0:\n",
    "            return 0\n",
    "        entropy_value += -1*(i*np.log2(i))\n",
    "        \n",
    "    return entropy_value"
   ]
  },
  {
   "cell_type": "code",
   "execution_count": 184,
   "id": "490a427e",
   "metadata": {},
   "outputs": [
    {
     "name": "stdout",
     "output_type": "stream",
     "text": [
      "0.9709505944546686\n"
     ]
    }
   ],
   "source": [
    "parent_entropy = entropy(p_list)\n",
    "print(parent_entropy)"
   ]
  },
  {
   "cell_type": "markdown",
   "id": "5c24938c",
   "metadata": {},
   "source": [
    "# Entropy, weighted_entropy and information gain for Type feature"
   ]
  },
  {
   "cell_type": "code",
   "execution_count": 140,
   "id": "cb2a9e01",
   "metadata": {},
   "outputs": [
    {
     "data": {
      "text/plain": [
       "HB       4\n",
       "SUV      3\n",
       "SEDAN    3\n",
       "Name: Type, dtype: int64"
      ]
     },
     "execution_count": 140,
     "metadata": {},
     "output_type": "execute_result"
    }
   ],
   "source": [
    "data.Type.value_counts()"
   ]
  },
  {
   "cell_type": "code",
   "execution_count": 195,
   "id": "dbf4c5a7",
   "metadata": {},
   "outputs": [
    {
     "name": "stdout",
     "output_type": "stream",
     "text": [
      "2 2\n",
      "entropy of HB: 1.0\n"
     ]
    }
   ],
   "source": [
    "#for HB\n",
    "hb_no = data[(data['Type']=='HB')&(data['Buy']=='No')].shape[0]\n",
    "hb_yes = data[(data['Type']=='HB') & (data['Buy']=='Yes')].shape[0]\n",
    "print(hb_no, hb_yes)\n",
    "\n",
    "#probability and entropy\n",
    "p_hb_y = hb_yes/data.Type.value_counts()[0]\n",
    "p_hb_n = hb_no/data.Type.value_counts()[0]\n",
    "hb_entropy = entropy([p_hb_y,p_hb_n])\n",
    "print('entropy of HB:',hb_entropy)"
   ]
  },
  {
   "cell_type": "code",
   "execution_count": 197,
   "id": "98333947",
   "metadata": {
    "scrolled": true
   },
   "outputs": [
    {
     "name": "stdout",
     "output_type": "stream",
     "text": [
      "2 1\n",
      "entropy of SUV: 0.9182958340544896\n"
     ]
    }
   ],
   "source": [
    "#for SVU\n",
    "suv_no=data[(data['Type']=='SUV') & (data['Buy']=='No')].shape[0]\n",
    "suv_yes = data[(data['Type']=='SUV')&(data['Buy']==\"Yes\")].shape[0]\n",
    "print(suv_no, suv_yes)\n",
    "\n",
    "#probability and entropy\n",
    "p_suv_y = suv_yes/data.Type.value_counts()[1]\n",
    "p_suv_n = suv_no/data.Type.value_counts()[1]\n",
    "suv_entropy = entropy([p_suv_y,p_suv_n])\n",
    "print('entropy of SUV:',suv_entropy)"
   ]
  },
  {
   "cell_type": "code",
   "execution_count": 198,
   "id": "d67b3be6",
   "metadata": {},
   "outputs": [
    {
     "name": "stdout",
     "output_type": "stream",
     "text": [
      "0 3\n",
      "entropy of SEDAN: 0\n"
     ]
    }
   ],
   "source": [
    "#for sedan\n",
    "sedan_no = data[(data['Type']=='SEDAN')&(data['Buy']=='N0')].shape[0]\n",
    "sedan_yes = data[(data['Type']=='SEDAN')& (data['Buy']=='Yes')].shape[0]\n",
    "print(sedan_no, sedan_yes)\n",
    "\n",
    "#probability and entropy\n",
    "p_s_y = sedan_yes/data.Type.value_counts()[2]\n",
    "p_s_n = sedan_no/data.Type.value_counts()[2]\n",
    "s_entropy = entropy([p_s_y,p_s_n])\n",
    "print('entropy of SEDAN:',s_entropy)"
   ]
  },
  {
   "cell_type": "markdown",
   "id": "f6a3fe6d",
   "metadata": {},
   "source": [
    "Weighted entropy of Type feature."
   ]
  },
  {
   "cell_type": "code",
   "execution_count": 192,
   "id": "bc88ce22",
   "metadata": {},
   "outputs": [
    {
     "data": {
      "text/plain": [
       "0.6754887502163469"
      ]
     },
     "execution_count": 192,
     "metadata": {},
     "output_type": "execute_result"
    }
   ],
   "source": [
    "#weighted entropy of Type feature\n",
    "w_hb=(data.Type.value_counts()[0]/data.shape[0])*hb_entropy\n",
    "w_suv=(data.Type.value_counts()[1]/data.shape[0])*suv_entropy\n",
    "w_sedan=(data.Type.value_counts()[2]/data.shape[0])*s_entropy\n",
    "w_entropy_type = w_hb + w_suv + w_sedan\n",
    "w_entropy_type"
   ]
  },
  {
   "cell_type": "markdown",
   "id": "ad5c9ca5",
   "metadata": {},
   "source": [
    "Information Gain of Type feature."
   ]
  },
  {
   "cell_type": "code",
   "execution_count": 193,
   "id": "43ab2e38",
   "metadata": {},
   "outputs": [
    {
     "data": {
      "text/plain": [
       "0.29546184423832167"
      ]
     },
     "execution_count": 193,
     "metadata": {},
     "output_type": "execute_result"
    }
   ],
   "source": [
    "#information gain\n",
    "information_gain_type = parent_entropy - w_entropy_type\n",
    "information_gain_type"
   ]
  },
  {
   "cell_type": "markdown",
   "id": "3ca1ef6e",
   "metadata": {},
   "source": [
    "# Entropy for Price"
   ]
  }
 ],
 "metadata": {
  "kernelspec": {
   "display_name": "Python 3 (ipykernel)",
   "language": "python",
   "name": "python3"
  },
  "language_info": {
   "codemirror_mode": {
    "name": "ipython",
    "version": 3
   },
   "file_extension": ".py",
   "mimetype": "text/x-python",
   "name": "python",
   "nbconvert_exporter": "python",
   "pygments_lexer": "ipython3",
   "version": "3.9.7"
  }
 },
 "nbformat": 4,
 "nbformat_minor": 5
}
