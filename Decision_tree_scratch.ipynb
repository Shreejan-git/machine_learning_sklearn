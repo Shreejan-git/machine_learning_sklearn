{
 "cells": [
  {
   "cell_type": "code",
   "execution_count": 1,
   "id": "0813f4a8",
   "metadata": {},
   "outputs": [],
   "source": [
    "import pandas as pd\n",
    "import numpy as np"
   ]
  },
  {
   "cell_type": "code",
   "execution_count": 4,
   "id": "02630769",
   "metadata": {},
   "outputs": [
    {
     "data": {
      "text/html": [
       "<div>\n",
       "<style scoped>\n",
       "    .dataframe tbody tr th:only-of-type {\n",
       "        vertical-align: middle;\n",
       "    }\n",
       "\n",
       "    .dataframe tbody tr th {\n",
       "        vertical-align: top;\n",
       "    }\n",
       "\n",
       "    .dataframe thead th {\n",
       "        text-align: right;\n",
       "    }\n",
       "</style>\n",
       "<table border=\"1\" class=\"dataframe\">\n",
       "  <thead>\n",
       "    <tr style=\"text-align: right;\">\n",
       "      <th></th>\n",
       "      <th>Type</th>\n",
       "      <th>Price</th>\n",
       "      <th>Buy</th>\n",
       "    </tr>\n",
       "  </thead>\n",
       "  <tbody>\n",
       "    <tr>\n",
       "      <th>0</th>\n",
       "      <td>SUV</td>\n",
       "      <td>H</td>\n",
       "      <td>No</td>\n",
       "    </tr>\n",
       "    <tr>\n",
       "      <th>1</th>\n",
       "      <td>HB</td>\n",
       "      <td>H</td>\n",
       "      <td>No</td>\n",
       "    </tr>\n",
       "    <tr>\n",
       "      <th>2</th>\n",
       "      <td>HB</td>\n",
       "      <td>H</td>\n",
       "      <td>Yes</td>\n",
       "    </tr>\n",
       "    <tr>\n",
       "      <th>3</th>\n",
       "      <td>HB</td>\n",
       "      <td>L</td>\n",
       "      <td>No</td>\n",
       "    </tr>\n",
       "    <tr>\n",
       "      <th>4</th>\n",
       "      <td>SEDAN</td>\n",
       "      <td>H</td>\n",
       "      <td>Yes</td>\n",
       "    </tr>\n",
       "  </tbody>\n",
       "</table>\n",
       "</div>"
      ],
      "text/plain": [
       "    Type Price  Buy\n",
       "0    SUV     H   No\n",
       "1     HB     H   No\n",
       "2     HB     H  Yes\n",
       "3     HB     L   No\n",
       "4  SEDAN     H  Yes"
      ]
     },
     "execution_count": 4,
     "metadata": {},
     "output_type": "execute_result"
    }
   ],
   "source": [
    "data = pd.read_csv('C:/Users/shree/Downloads/samplecar.csv')\n",
    "data.head()"
   ]
  },
  {
   "cell_type": "code",
   "execution_count": 5,
   "id": "e3842a56",
   "metadata": {},
   "outputs": [
    {
     "data": {
      "text/plain": [
       "(10, 3)"
      ]
     },
     "execution_count": 5,
     "metadata": {},
     "output_type": "execute_result"
    }
   ],
   "source": [
    "data.shape"
   ]
  },
  {
   "cell_type": "code",
   "execution_count": 58,
   "id": "2fca881e",
   "metadata": {},
   "outputs": [],
   "source": [
    "features= data.iloc[:,:-1]\n",
    "target= data.iloc[:,-1]"
   ]
  },
  {
   "cell_type": "code",
   "execution_count": 11,
   "id": "f5947c7c",
   "metadata": {
    "scrolled": true
   },
   "outputs": [],
   "source": [
    "def decision_tree_classifier(X,y):\n",
    "    ''' This function implements decision tree using ID3 algorithm's entropy and information gain approach. '''\n",
    "    no_of_yes = y\n",
    "    print(no_of_yes)"
   ]
  },
  {
   "cell_type": "code",
   "execution_count": 15,
   "id": "795e4ffd",
   "metadata": {},
   "outputs": [
    {
     "data": {
      "text/plain": [
       "2"
      ]
     },
     "execution_count": 15,
     "metadata": {},
     "output_type": "execute_result"
    }
   ],
   "source": [
    "n_yes = y.nunique()\n",
    "n_yes"
   ]
  },
  {
   "cell_type": "code",
   "execution_count": 16,
   "id": "0e82fed5",
   "metadata": {},
   "outputs": [
    {
     "data": {
      "text/plain": [
       "Yes    6\n",
       "No     4\n",
       "Name: Buy, dtype: int64"
      ]
     },
     "execution_count": 16,
     "metadata": {},
     "output_type": "execute_result"
    }
   ],
   "source": [
    "y.value_counts()"
   ]
  },
  {
   "cell_type": "code",
   "execution_count": 24,
   "id": "628b927f",
   "metadata": {},
   "outputs": [
    {
     "name": "stdout",
     "output_type": "stream",
     "text": [
      "6\n",
      "4\n"
     ]
    }
   ],
   "source": [
    "for i in y.value_counts():\n",
    "    print(i)"
   ]
  },
  {
   "cell_type": "code",
   "execution_count": 45,
   "id": "ca1a9533",
   "metadata": {},
   "outputs": [
    {
     "name": "stdout",
     "output_type": "stream",
     "text": [
      "6 4\n",
      "10\n"
     ]
    }
   ],
   "source": [
    "y = data[data['Buy']=='Yes'].shape[0]\n",
    "n = data[data['Buy']=='No'].shape[0]\n",
    "total_sample=data.shape[0]\n",
    "print(y,n)\n",
    "print(total_sample)"
   ]
  },
  {
   "cell_type": "code",
   "execution_count": 46,
   "id": "55ad9ae5",
   "metadata": {},
   "outputs": [
    {
     "data": {
      "text/plain": [
       "0.6"
      ]
     },
     "execution_count": 46,
     "metadata": {},
     "output_type": "execute_result"
    }
   ],
   "source": [
    "p_y = y/total_sample\n",
    "p_y"
   ]
  },
  {
   "cell_type": "code",
   "execution_count": 47,
   "id": "de99a97d",
   "metadata": {},
   "outputs": [
    {
     "data": {
      "text/plain": [
       "0.4"
      ]
     },
     "execution_count": 47,
     "metadata": {},
     "output_type": "execute_result"
    }
   ],
   "source": [
    "p_n = n/total_sample\n",
    "p_n"
   ]
  },
  {
   "cell_type": "code",
   "execution_count": 55,
   "id": "00cf5b2a",
   "metadata": {},
   "outputs": [],
   "source": [
    "p_list=[p_y,p_n]"
   ]
  },
  {
   "cell_type": "code",
   "execution_count": 164,
   "id": "b062a20f",
   "metadata": {},
   "outputs": [],
   "source": [
    "def prob(i,n):\n",
    "    return i/n"
   ]
  },
  {
   "cell_type": "code",
   "execution_count": 183,
   "id": "fdd92902",
   "metadata": {},
   "outputs": [],
   "source": [
    "def entropy(p_l):\n",
    "    entropy_value = 0\n",
    "    \n",
    "    for i in p_l:\n",
    "        if i == 0:\n",
    "            return 0\n",
    "        entropy_value += -1*(i*np.log2(i))\n",
    "        \n",
    "    return entropy_value"
   ]
  },
  {
   "cell_type": "code",
   "execution_count": 184,
   "id": "c5c60b98",
   "metadata": {},
   "outputs": [
    {
     "name": "stdout",
     "output_type": "stream",
     "text": [
      "0.9709505944546686\n"
     ]
    }
   ],
   "source": [
    "parent_entropy = entropy(p_list)\n",
    "print(parent_entropy)"
   ]
  },
  {
   "cell_type": "markdown",
   "id": "603c7372",
   "metadata": {},
   "source": [
    "# Entropy, weighted_entropy and information gain for Type feature"
   ]
  },
  {
   "cell_type": "code",
   "execution_count": 140,
   "id": "dba41ca1",
   "metadata": {},
   "outputs": [
    {
     "data": {
      "text/plain": [
       "HB       4\n",
       "SUV      3\n",
       "SEDAN    3\n",
       "Name: Type, dtype: int64"
      ]
     },
     "execution_count": 140,
     "metadata": {},
     "output_type": "execute_result"
    }
   ],
   "source": [
    "data.Type.value_counts()"
   ]
  },
  {
   "cell_type": "code",
   "execution_count": 186,
   "id": "c0806437",
   "metadata": {},
   "outputs": [
    {
     "name": "stdout",
     "output_type": "stream",
     "text": [
      "2 2\n",
      "entropy of HB 1.0\n"
     ]
    }
   ],
   "source": [
    "#for HB\n",
    "hb_no = data[(data['Type']=='HB')&(data['Buy']=='No')].shape[0]\n",
    "hb_yes = data[(data['Type']=='HB') & (data['Buy']=='Yes')].shape[0]\n",
    "print(hb_no, hb_yes)\n",
    "\n",
    "#probability and entropy\n",
    "p_hb_y = prob(hb_yes,data.Type.value_counts()[0])\n",
    "p_hb_n = prob(hb_no,data.Type.value_counts()[0])\n",
    "hb_entropy = entropy([p_hb_y,p_hb_n])\n",
    "print('entropy of HB:',hb_entropy)"
   ]
  },
  {
   "cell_type": "code",
   "execution_count": 188,
   "id": "aaa632f7",
   "metadata": {
    "scrolled": true
   },
   "outputs": [
    {
     "name": "stdout",
     "output_type": "stream",
     "text": [
      "2 1\n",
      "entropy of SUV: 0.9182958340544896\n"
     ]
    }
   ],
   "source": [
    "#for SVU\n",
    "suv_no=data[(data['Type']=='SUV') & (data['Buy']=='No')].shape[0]\n",
    "suv_yes = data[(data['Type']=='SUV')&(data['Buy']==\"Yes\")].shape[0]\n",
    "print(suv_no, suv_yes)\n",
    "\n",
    "#probability and entropy\n",
    "p_suv_y = prob(suv_yes,data.Type.value_counts()[1])\n",
    "p_suv_n = prob(suv_no,data.Type.value_counts()[1])\n",
    "suv_entropy = entropy([p_suv_y,p_suv_n])\n",
    "print('entropy of SUV:',suv_entropy)"
   ]
  },
  {
   "cell_type": "code",
   "execution_count": 190,
   "id": "067bd340",
   "metadata": {},
   "outputs": [
    {
     "name": "stdout",
     "output_type": "stream",
     "text": [
      "0 3\n",
      "entropy of SEDAN: 0\n"
     ]
    }
   ],
   "source": [
    "#for sedan\n",
    "sedan_no = data[(data['Type']=='SEDAN')&(data['Buy']=='N0')].shape[0]\n",
    "sedan_yes = data[(data['Type']=='SEDAN')& (data['Buy']=='Yes')].shape[0]\n",
    "print(sedan_no, sedan_yes)\n",
    "\n",
    "#probability and entropy\n",
    "p_s_y = prob(sedan_yes,data.Type.value_counts()[2])\n",
    "p_s_n = prob(sedan_no,data.Type.value_counts()[2])\n",
    "s_entropy = entropy([p_s_y,p_s_n])\n",
    "print('entropy of SEDAN:',s_entropy)"
   ]
  },
  {
   "cell_type": "markdown",
   "id": "0cc7a9a2",
   "metadata": {},
   "source": [
    "Weighted entropy of Type feature."
   ]
  },
  {
   "cell_type": "code",
   "execution_count": 192,
   "id": "fae3b3f4",
   "metadata": {},
   "outputs": [
    {
     "data": {
      "text/plain": [
       "0.6754887502163469"
      ]
     },
     "execution_count": 192,
     "metadata": {},
     "output_type": "execute_result"
    }
   ],
   "source": [
    "#weighted entropy of Type feature\n",
    "w_hb=(data.Type.value_counts()[0]/data.shape[0])*hb_entropy\n",
    "w_suv=(data.Type.value_counts()[1]/data.shape[0])*suv_entropy\n",
    "w_sedan=(data.Type.value_counts()[2]/data.shape[0])*s_entropy\n",
    "w_entropy_type = w_hb + w_suv + w_sedan\n",
    "w_entropy_type"
   ]
  },
  {
   "cell_type": "markdown",
   "id": "1b1f8963",
   "metadata": {},
   "source": [
    "Information Gain of Type feature."
   ]
  },
  {
   "cell_type": "code",
   "execution_count": 193,
   "id": "d17e32c0",
   "metadata": {},
   "outputs": [
    {
     "data": {
      "text/plain": [
       "0.29546184423832167"
      ]
     },
     "execution_count": 193,
     "metadata": {},
     "output_type": "execute_result"
    }
   ],
   "source": [
    "#information gain\n",
    "information_gain_type = parent_entropy - w_entropy_type\n",
    "information_gain_type"
   ]
  },
  {
   "cell_type": "markdown",
   "id": "f19dfc1d",
   "metadata": {},
   "source": [
    "# Entropy for Price"
   ]
  },
  {
   "cell_type": "code",
   "execution_count": 139,
   "id": "24e143a4",
   "metadata": {
    "scrolled": false
   },
   "outputs": [
    {
     "data": {
      "text/plain": [
       "H      5\n",
       "L      4\n",
       "Hot    1\n",
       "Name: Price, dtype: int64"
      ]
     },
     "execution_count": 139,
     "metadata": {},
     "output_type": "execute_result"
    }
   ],
   "source": [
    "data.Price.value_counts()"
   ]
  },
  {
   "cell_type": "code",
   "execution_count": 150,
   "id": "6d0915df",
   "metadata": {},
   "outputs": [
    {
     "name": "stdout",
     "output_type": "stream",
     "text": [
      "3 2\n"
     ]
    }
   ],
   "source": [
    "#for H\n",
    "h_yes = data[(data.Price=='H')&(data.Buy=='Yes')].shape[0]\n",
    "h_no = data[(data.Price=='H')&(data.Buy=='No')].shape[0]\n",
    "print(h_yes, h_no)"
   ]
  },
  {
   "cell_type": "code",
   "execution_count": 151,
   "id": "87d732a0",
   "metadata": {},
   "outputs": [
    {
     "name": "stdout",
     "output_type": "stream",
     "text": [
      "2 2\n"
     ]
    }
   ],
   "source": [
    "#for L\n",
    "l_yes = data[(data.Price=='L')&(data.Buy=='Yes')].shape[0]\n",
    "l_no = data[(data.Price=='L')&(data.Buy=='No')].shape[0]\n",
    "print(l_yes, l_no)"
   ]
  },
  {
   "cell_type": "code",
   "execution_count": 153,
   "id": "62b88e29",
   "metadata": {},
   "outputs": [
    {
     "name": "stdout",
     "output_type": "stream",
     "text": [
      "1 0\n"
     ]
    }
   ],
   "source": [
    "#for Hot\n",
    "hot_yes = data[(data.Price=='Hot')&(data.Buy=='Yes')].shape[0]\n",
    "hot_no = data[(data.Price=='Hot')&(data.Buy=='No')].shape[0]\n",
    "print(hot_yes, hot_no)"
   ]
  },
  {
   "cell_type": "code",
   "execution_count": null,
   "id": "7a29906d",
   "metadata": {},
   "outputs": [],
   "source": []
  },
  {
   "cell_type": "code",
   "execution_count": null,
   "id": "7a04355d",
   "metadata": {},
   "outputs": [],
   "source": []
  },
  {
   "cell_type": "code",
   "execution_count": null,
   "id": "48ddea25",
   "metadata": {},
   "outputs": [],
   "source": []
  },
  {
   "cell_type": "code",
   "execution_count": null,
   "id": "022ed43b",
   "metadata": {},
   "outputs": [],
   "source": []
  },
  {
   "cell_type": "code",
   "execution_count": null,
   "id": "072db005",
   "metadata": {},
   "outputs": [],
   "source": [
    "#individual "
   ]
  }
 ],
 "metadata": {
  "kernelspec": {
   "display_name": "Python 3 (ipykernel)",
   "language": "python",
   "name": "python3"
  },
  "language_info": {
   "codemirror_mode": {
    "name": "ipython",
    "version": 3
   },
   "file_extension": ".py",
   "mimetype": "text/x-python",
   "name": "python",
   "nbconvert_exporter": "python",
   "pygments_lexer": "ipython3",
   "version": "3.9.7"
  }
 },
 "nbformat": 4,
 "nbformat_minor": 5
}
