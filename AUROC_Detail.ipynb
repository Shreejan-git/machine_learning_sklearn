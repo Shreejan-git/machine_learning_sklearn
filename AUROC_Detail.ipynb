{
 "cells": [
  {
   "cell_type": "code",
   "execution_count": 1,
   "id": "779ad920",
   "metadata": {},
   "outputs": [],
   "source": [
    "from sklearn.datasets import make_classification\n",
    "from sklearn.model_selection import train_test_split\n",
    "from sklearn.linear_model import LogisticRegression\n",
    "from sklearn.metrics import confusion_matrix, accuracy_score, roc_curve, auc\n",
    "import matplotlib.pyplot as plt"
   ]
  },
  {
   "cell_type": "code",
   "execution_count": 2,
   "id": "7145a6c0",
   "metadata": {},
   "outputs": [],
   "source": [
    "features,target = make_classification(n_samples=10000,n_features=10,n_classes=2, n_informative=4, n_repeated=4,random_state=51)"
   ]
  },
  {
   "cell_type": "code",
   "execution_count": 3,
   "id": "2e996380",
   "metadata": {},
   "outputs": [
    {
     "data": {
      "text/plain": [
       "(10000, 10)"
      ]
     },
     "execution_count": 3,
     "metadata": {},
     "output_type": "execute_result"
    }
   ],
   "source": [
    "features.shape"
   ]
  },
  {
   "cell_type": "code",
   "execution_count": 4,
   "id": "993aca7c",
   "metadata": {},
   "outputs": [
    {
     "data": {
      "text/plain": [
       "(10000,)"
      ]
     },
     "execution_count": 4,
     "metadata": {},
     "output_type": "execute_result"
    }
   ],
   "source": [
    "target.shape"
   ]
  },
  {
   "cell_type": "code",
   "execution_count": 5,
   "id": "061af87d",
   "metadata": {},
   "outputs": [
    {
     "data": {
      "text/plain": [
       "array([1, 0, 0, ..., 0, 0, 1])"
      ]
     },
     "execution_count": 5,
     "metadata": {},
     "output_type": "execute_result"
    }
   ],
   "source": [
    "target"
   ]
  },
  {
   "cell_type": "code",
   "execution_count": 6,
   "id": "9b573070",
   "metadata": {},
   "outputs": [],
   "source": [
    "Xtrain,Xtest,ytrain,ytest=train_test_split(features, target, random_state=100, test_size=0.2)"
   ]
  },
  {
   "cell_type": "markdown",
   "id": "971373a4",
   "metadata": {},
   "source": [
    "# Testing for Logistic Regression"
   ]
  },
  {
   "cell_type": "code",
   "execution_count": 7,
   "id": "904be924",
   "metadata": {},
   "outputs": [],
   "source": [
    "lr=LogisticRegression()"
   ]
  },
  {
   "cell_type": "code",
   "execution_count": 8,
   "id": "807df1ea",
   "metadata": {},
   "outputs": [
    {
     "data": {
      "text/plain": [
       "LogisticRegression()"
      ]
     },
     "execution_count": 8,
     "metadata": {},
     "output_type": "execute_result"
    }
   ],
   "source": [
    "lr.fit(Xtrain,ytrain)"
   ]
  },
  {
   "cell_type": "code",
   "execution_count": 9,
   "id": "9760c6d3",
   "metadata": {},
   "outputs": [
    {
     "data": {
      "text/plain": [
       "array([0, 0, 1, ..., 0, 0, 1])"
      ]
     },
     "execution_count": 9,
     "metadata": {},
     "output_type": "execute_result"
    }
   ],
   "source": [
    "pred = lr.predict(Xtest)\n",
    "pred"
   ]
  },
  {
   "cell_type": "code",
   "execution_count": 11,
   "id": "8436a14c",
   "metadata": {},
   "outputs": [],
   "source": [
    "cm_pred_proba = lr.predict_proba(Xtest)\n",
    "cm_pred_proba = cm_pred_proba[:,1]"
   ]
  },
  {
   "cell_type": "code",
   "execution_count": 12,
   "id": "2c76470a",
   "metadata": {},
   "outputs": [
    {
     "data": {
      "text/plain": [
       "0.855"
      ]
     },
     "execution_count": 12,
     "metadata": {},
     "output_type": "execute_result"
    }
   ],
   "source": [
    "accuracy_ = accuracy_score(ytest,pred)\n",
    "accuracy_"
   ]
  },
  {
   "cell_type": "code",
   "execution_count": 13,
   "id": "998f1af2",
   "metadata": {},
   "outputs": [
    {
     "data": {
      "text/plain": [
       "array([[834, 156],\n",
       "       [134, 876]], dtype=int64)"
      ]
     },
     "execution_count": 13,
     "metadata": {},
     "output_type": "execute_result"
    }
   ],
   "source": [
    "cm = confusion_matrix(ytest,pred)\n",
    "cm"
   ]
  },
  {
   "cell_type": "code",
   "execution_count": 14,
   "id": "d16ecb68",
   "metadata": {},
   "outputs": [],
   "source": [
    "fpr_cm, tpr_cm, threshold = roc_curve(ytest,cm_pred_proba)"
   ]
  },
  {
   "cell_type": "code",
   "execution_count": 16,
   "id": "2472972b",
   "metadata": {},
   "outputs": [
    {
     "data": {
      "text/plain": [
       "0.9252335233523353"
      ]
     },
     "execution_count": 16,
     "metadata": {},
     "output_type": "execute_result"
    }
   ],
   "source": [
    "auc_cm = auc(fpr_cm,tpr_cm)\n",
    "auc_cm"
   ]
  },
  {
   "cell_type": "markdown",
   "id": "f26109f9",
   "metadata": {},
   "source": [
    "# Implementing Decision Tree Classifier"
   ]
  },
  {
   "cell_type": "code",
   "execution_count": 17,
   "id": "8160d046",
   "metadata": {},
   "outputs": [],
   "source": [
    "from sklearn.tree import DecisionTreeClassifier\n",
    "dtc = DecisionTreeClassifier()\n",
    "dtc.fit(Xtrain,ytrain)\n",
    "dtc_pred_proba = dtc.predict_proba(Xtest)\n",
    "dtc_pred_proba = dtc_pred_proba[:,1]\n",
    "\n",
    "fpr_dtc, tpr_dtc,threshold = roc_curve(ytest, dtc_pred_proba)\n",
    "auc_dtc = auc(fpr_dtc,tpr_dtc)"
   ]
  },
  {
   "cell_type": "code",
   "execution_count": 23,
   "id": "209915dd",
   "metadata": {},
   "outputs": [
    {
     "data": {
      "text/plain": [
       "array([[896,  94],\n",
       "       [ 83, 927]], dtype=int64)"
      ]
     },
     "execution_count": 23,
     "metadata": {},
     "output_type": "execute_result"
    }
   ],
   "source": [
    "cm_dtc = confusion_matrix(ytest,dtc.predict(Xtest))\n",
    "cm_dtc"
   ]
  },
  {
   "cell_type": "code",
   "execution_count": 22,
   "id": "b433dda9",
   "metadata": {},
   "outputs": [
    {
     "data": {
      "text/plain": [
       "0.9115"
      ]
     },
     "execution_count": 22,
     "metadata": {},
     "output_type": "execute_result"
    }
   ],
   "source": [
    "dtc_accuracy = accuracy_score(ytest, dtc.predict(Xtest))\n",
    "dtc_accuracy"
   ]
  },
  {
   "cell_type": "code",
   "execution_count": 18,
   "id": "2af930cb",
   "metadata": {},
   "outputs": [
    {
     "data": {
      "text/plain": [
       "0.9114361436143614"
      ]
     },
     "execution_count": 18,
     "metadata": {},
     "output_type": "execute_result"
    }
   ],
   "source": [
    "auc_dtc"
   ]
  },
  {
   "cell_type": "code",
   "execution_count": 21,
   "id": "5cb73afe",
   "metadata": {},
   "outputs": [
    {
     "data": {
      "text/plain": [
       "<matplotlib.legend.Legend at 0x2114e37db20>"
      ]
     },
     "execution_count": 21,
     "metadata": {},
     "output_type": "execute_result"
    },
    {
     "data": {
      "image/png": "[encoded data removed]",
      "text/plain": [
       "<Figure size 432x288 with 1 Axes>"
      ]
     },
     "metadata": {
      "needs_background": "light"
     },
     "output_type": "display_data"
    }
   ],
   "source": [
    "plt.figure(1)\n",
    "plt.plot(fpr_cm,tpr_cm,marker='.', label='AUC of Logistic Regression is:'+str(auc_cm))\n",
    "plt.plot(fpr_dtc,tpr_dtc,marker='.', label='AUC of Decision Tree classifier is:'+str(auc_dtc))\n",
    "\n",
    "plt.xlabel('False Positive Rate')\n",
    "plt.ylabel('True Positive Rate')\n",
    "plt.title('ROC Curve')\n",
    "plt.legend()"
   ]
  },
  {
   "cell_type": "code",
   "execution_count": null,
   "id": "75e91601",
   "metadata": {},
   "outputs": [],
   "source": []
  },
  {
   "cell_type": "code",
   "execution_count": null,
   "id": "6826b723",
   "metadata": {},
   "outputs": [],
   "source": []
  }
 ],
 "metadata": {
  "kernelspec": {
   "display_name": "Python 3 (ipykernel)",
   "language": "python",
   "name": "python3"
  },
  "language_info": {
   "codemirror_mode": {
    "name": "ipython",
    "version": 3
   },
   "file_extension": ".py",
   "mimetype": "text/x-python",
   "name": "python",
   "nbconvert_exporter": "python",
   "pygments_lexer": "ipython3",
   "version": "3.9.7"
  }
 },
 "nbformat": 4,
 "nbformat_minor": 5
}
